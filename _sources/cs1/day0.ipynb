{
 "cells": [
  {
   "cell_type": "markdown",
   "metadata": {
    "id": "09FeWGowyoxx"
   },
   "source": [
    "# Day 0: ガイダンス\n",
    "\n",
    "10:40-12:20\n",
    "\n",
    "- [ウェブサイト](https://wakita.github.io/classes/y21/cs1.html): 授業のふりかえり\n",
    "\n",
    "- [シラバス](http://www.ocw.titech.ac.jp/index.php?module=General&action=T0300&GakubuCD=7&KamokuCD=110800&KougiCD=202107202&Nendo=2021&vid=03)\n",
    "\n",
    "- [T2SCHOLA](https://t2schola.titech.ac.jp/course/view.php?id=13934)\n",
    "    - 非公開情報の配布（Zoom のアドレス、Slack への招待リンクなど）に使います。授業中はほとんど使いません。\n",
    "    - 課題やレポートの提出に使うかも？\n",
    "\n",
    "- **★Slack★**:\n",
    "    - 各種情報のブックマーク (Zoom URL / T2SCHOLA / ウェブページ / CommentScreen)\n",
    "    - 教員からは：お知らせ、講義資料・ビデオの配布\n",
    "    - 学生さんからは：質問のために使います。\n",
    "\n",
    "- CommentScreen （弾幕）: 講義中のフィードバックに使います。ノートパソコンから受講中の学生さんは、いろんなウィンドウを表示すると、画面がごちゃごちゃになるので、スマホから利用することを薦めます。\n",
    "\n",
    "- **★Google Colaboratory★**: プログラミング作業の基盤に使います。利用するために Google アカウントが必須です。\n",
    "\n",
    "- **★Zoom★**: オンライン授業基盤\n"
   ]
  },
  {
   "cell_type": "markdown",
   "metadata": {
    "id": "98I2ZZEGJFoJ"
   },
   "source": [
    "![](https://i.gyazo.com/4d477319bb82dd73df0ddafa0d991137.jpg)"
   ]
  },
  {
   "cell_type": "markdown",
   "metadata": {
    "id": "Sv8Wkgf6JLxZ"
   },
   "source": [
    "![](https://i.gyazo.com/8eaca78b82123e94f22f921da0daf783.png)"
   ]
  },
  {
   "cell_type": "markdown",
   "metadata": {
    "id": "GQ1hlPFNJWKt"
   },
   "source": [
    "---\n",
    "# コンピュータサイエンス第一の講義の概要\n",
    "\n",
    "## 講義の目標\n",
    "\n",
    "1. **計算**とは何か？\n",
    "\n",
    "1. **コンピュータで処理**するとは？\n",
    "\n",
    "## 講義の内容\n",
    "\n",
    "上の2つの目標を演習をとおして**実感しながら**理解する．\n",
    "\n",
    "## 予定\n",
    "\n",
    "- テーマ1: 計算の基本を知る\n",
    "\n",
    "    四則演算でアニメーション\n",
    "\n",
    "- テーマ2: 計算の組み立て方とプログラミング\n",
    "\n",
    "    暗号解読に挑戦!!"
   ]
  },
  {
   "cell_type": "markdown",
   "metadata": {
    "id": "xU1x4KjUKHxs"
   },
   "source": [
    "# 予定\n",
    "\n",
    "1. 計算の基本\n",
    "\n",
    "1. プログラミング演習\n",
    "\n",
    "1. 配列，文字列\n",
    "\n",
    "1. プログラミング演習\n",
    "\n",
    "1. 暗号入門\n",
    "\n",
    "1. プログラミング演習"
   ]
  },
  {
   "cell_type": "markdown",
   "metadata": {
    "id": "-HJTi9uVFLVp"
   },
   "source": [
    "---\n",
    "# コンピュータサイエンス第二の履修について\n",
    "\n",
    "時間割の同じ時間帯に開講されている 2a(CS1) - 脇田担当と 2b(CS1) デファゴ先生担当を受講可能．\n",
    "\n",
    "[それぞれのクラスの講義内容](https://wakita.github.io/classes/y21/cs2/course.html)を読んで履修申告期間内に申告して下さい．\n",
    "\n",
    "ただし，3Q と 4Q でクラスを変える場合は，プログラミング環境が異なる可能性があるので注意を要します．（たぶん，デファゴ先生と脇田は類似したプログラミング環境を利用するはずです）"
   ]
  },
  {
   "cell_type": "markdown",
   "metadata": {
    "id": "m6kUjWIvyJMW"
   },
   "source": [
    "---\n",
    "# さっそく演習の環境 (Google Colaboratory Notebook) について\n",
    "\n",
    "- Google Account は取得しましたか？\n",
    "    まだの人は、メモをしっかりととりながら授業をじっくりと聞いて、あとで自分自身で同じ内容を試して下さい。"
   ]
  },
  {
   "cell_type": "markdown",
   "metadata": {
    "id": "cuOsNApB17Aj"
   },
   "source": [
    "# ノートブックって何？\n",
    "\n",
    "今，あなたが眺めている初回の講義資料は**ノートブック**と呼ばれる形式です．ノートブックはウェブ上で眺めるだけでなく，その内容を編集して修正することもできます．\n",
    "\n",
    "ノートブックには **Python というプログラミング言語で書かれたプログラムを含む**ことがあります．ノートブックに含まれるプログラムを実行して，その結果を計算できます．\n",
    "\n",
    "**教員から共有されたノートブック**に自分でメモを書き加えて，さらに内容を充実させ，プログラムの実行から学び，さらに自分のプログラムを追加・実行して深い学びを得ることもできます．\n",
    "\n",
    "**超重要：以外な落とし穴**　ところでほかのひとから共有されたノートブックの所有権は共有してくれた人にあります．そういうノートブックも一時的に修正できそうに見えるので，あたかも所有権が自分にあるかのように錯覚します。でも、所有権がほかの人にあるノートブックは保存することができません．\n",
    "\n",
    "せっかく編集して，自分好みの内容になっても保存できなければ困ります．そこで，ノートブックを共有されたら，なにはともかくそれを自分のノートブックとして保存しましょう．いったん，自分のノートブックとして保存してしまえば，あとは自分の好きに編集し，それを保存することができます．詳しくは授業のなかで**ノートブックの Google Drive への保存**についてよく学んで下さい．\n",
    "\n",
    "\n",
    "（ノートブックを学生さんに共有）"
   ]
  },
  {
   "cell_type": "markdown",
   "metadata": {
    "id": "G0tZdgeLNGCN"
   },
   "source": [
    "# ノートブックの**セル**\n",
    "\n",
    "ノートブックは**セル**と呼ばれる領域に区分されています．そこに文章や Python のプログラムを配置することができます。\n",
    "\n",
    "- 文章を配置するセルは**Text セル**です。いま、読んでいる箇所は **Text セル**です。\n",
    "\n",
    "- Python のプログラムを配置するセルは**Code セル**です。Code セルに含まれる Python のプログラムは実行できます．\n",
    "\n",
    "- セルの内容を編集するときは，そのセルをダブルクリックします．やってみれば，なんとなくわかるでしょう．編集作業を終えるときは **SHIFT+Enter** あるいは **SHIFT+Return** です．つまり，SHIFTキーを押しながら，Enterキーを押します．単に Enter キーを押しただけだと，改行するだけです．"
   ]
  },
  {
   "cell_type": "markdown",
   "metadata": {
    "id": "v8I4JkmF4Ewe"
   },
   "source": [
    "# テキストセルと Markdown 書式\n",
    "\n",
    "\n",
    "テキストセルには**Markdown 書式**と呼ばれる簡易記法を用いて、文字の装飾やハイパーリンクを貼ることができます。\n",
    "\n",
    "- 段落は空行で区切ります。\n",
    "\n",
    "- 文字修飾: `*斜字体*` → *斜字体*; `**太字**` → **太字**; `~~取消線~~` → ~~取消線~~; `簡単なコンピュータ用語`\n",
    "\n",
    "- 行の先頭に `- ` と書けば箇条書き。（ハイフンに続けて空白）。行の先頭に `1. ` と書けば番号つきの箇条書き。1., 2., 3., と番号を列挙したいときも、すべて `1. ` で構いません。むしろ、その方が簡単に箇条書きの順序を入れ替えることができて便利です。\n",
    "\n",
    "1. ナッツ\n",
    "1. ヨーグルト\n",
    "1. パン\n",
    "\n",
    "- `# タイトル` で見出し、`## タイトル` で中見出し、`### タイトル` で小見出しのような感じ\n",
    "\n",
    "- `[ページのタイトル](URL)` で、ハイパーリンク。たとえば、[東工大のウェブサイト](https://www.titech.ac.jp)\n",
    "\n",
    "- 行の先頭を `> ` で始めれば引用\n",
    "\n",
    "    > Markdown（マークダウン）は、文書を記述するための軽量マークアップ言語のひとつである。本来はプレーンテキスト形式で手軽に書いた文書からHTMLを生成するために開発されたものである。しかし、現在ではHTMLのほかパワーポイント形式やLATEX形式のファイルへ変換するソフトウェア（コンバータ）も開発されている。各コンバータの開発者によって多様な拡張が施されるため、各種の方言が存在する。 -- [Markdown@Wikipedia.jp](https://ja.wikipedia.org/wiki/Markdown)\n",
    "\n",
    "- 行の先頭に4つの空白をいれると箇条書きの入れ子構造を一段深くできます。\n",
    "\n",
    "    - 深い\n",
    "\n",
    "        - もっと深い\n",
    "\n",
    "            - 深すぎる！\n",
    "\n",
    "- `---` で水平線\n",
    "\n",
    "- プログラムコードを書く書き方もありますが、Google Colaboratory なら Code セルに書くので必要なさそう。"
   ]
  },
  {
   "cell_type": "code",
   "execution_count": null,
   "metadata": {
    "id": "FiYdTETUN2GJ"
   },
   "outputs": [],
   "source": [
    "# 1 + 2 + ... + 10 を計算しよう！（プログラムのなかの # で始まる行は「コメント」と呼ばれるメモ書きです．この部分は実行されません．）\n",
    "\n",
    "print(1 + 2 + 3 + 4 + 5 + 6 + 7 + 8 + 9 + 10)\n",
    "\n",
    "# 半径5の円盤の面積を計算しよう！\n",
    "print(3.14 * 5 * 5)"
   ]
  },
  {
   "cell_type": "markdown",
   "metadata": {
    "id": "nNOFvSwKOYvI"
   },
   "source": [
    "Code セルに含まれるプログラムを実行することができます。プログラムを実行するにはセルの左上に表示される実行ボタンを利用しましょう．\n",
    "\n",
    "![](https://i.gyazo.com/520a2398e2f9257ba6bddf995975d47c.png)"
   ]
  },
  {
   "cell_type": "markdown",
   "metadata": {
    "id": "38rDiXclO6cx"
   },
   "source": [
    "---\n",
    "# セルの追加方法\n",
    "\n",
    "ポインターを既存のセルの枠の上部に移動するとセルを追加するためのボタン (**+ Code** と **+ Text**) が出てきます。それをクリックすれば、選んだ種類のセルが既存のセルの上に追加されます。\n",
    "\n",
    "![](https://gyazo.com/5fa9070982b6dc57adf5d7bfffc73728.png)\n",
    "\n",
    "ポインターを既存のセルの枠の下部に移動するとこのセルの下に新たなセルを追加するための同様のボタンが利用できるようになります。"
   ]
  },
  {
   "cell_type": "markdown",
   "metadata": {
    "id": "GvFQ8-spzCnQ"
   },
   "source": [
    "---\n",
    "\n",
    "# [課題1](https://t2schola.titech.ac.jp/mod/assign/view.php?id=41242)\n",
    "\n",
    "1. 以下のプログラムを以下のように修正しなさい．\n",
    "\n",
    "    - 名前を（脇田の名前でなく）自分の名前に置き換えなさい\n",
    "\n",
    "    - 自分の名字と名前の間に空白を挿入しなさい．あなたの名前が漢字名の場合は全角空白を挿入しなさい．そうでない場合は半角の空白を挿入しなさい．\n",
    "\n",
    "1. 修正したプログラムを実行しなさい．\n",
    "\n",
    "1. プログラムの内容を[T2SCHOLAで提出](https://t2schola.titech.ac.jp/mod/assign/view.php?id=41242)しなさい．締切は一週間後（くわしくは T2SCHOLA）．でも，授業時間内でできると思うから，さっさと提出して！"
   ]
  },
  {
   "cell_type": "code",
   "execution_count": null,
   "metadata": {
    "colab": {
     "base_uri": "https://localhost:8080/"
    },
    "id": "RnBlC4bKzhcw",
    "outputId": "6203177e-2b57-431e-bb18-db8e2275c6de"
   },
   "outputs": [
    {
     "name": "stdout",
     "output_type": "stream",
     "text": [
      "At the end of the third quarter, Ken Wakita will be awarded the title of Knight of Computer Science.\n",
      "3Qの終りには脇田建はコンピュータサイエンスの騎士の称号を得るでしょう．\n",
      "\n",
      "1.\n",
      "2.\n",
      "3.\n",
      "\n",
      "改\n",
      "行\n"
     ]
    }
   ],
   "source": [
    "# 課題1\n",
    "\n",
    "print('At the end of the third quarter, Ken Wakita will be awarded the title of Knight of Computer Science.')\n",
    "print(\"3Qの終りには脇田建はコンピュータサイエンスの騎士の称号を得るでしょう．\")"
   ]
  },
  {
   "cell_type": "markdown",
   "metadata": {
    "id": "sGHMlw-OBgBj"
   },
   "source": [
    "課題についての質問は Slack の `#general` チャネルに書いて下さい．質問へのリプライの形で対応します．\n",
    "\n",
    "技術的な理由で困った場合は，**できるだけ早いうちに質問**して下さい．「こんなことがわからないのは自分だけではないか」と考えるのは誇大妄想です．あなたがわからないことがあったら，ほかにも同じところで躓いている人はいくらでもいます．あなたは特別ではありません．恥しがっていないで，質問して下さい．\n",
    "\n",
    "逆にだれかの質問で疑問が氷解したひとは、質問した人への**感謝の印**を絵文字の反応で示して下さい。"
   ]
  },
  {
   "cell_type": "code",
   "execution_count": null,
   "metadata": {
    "id": "LmO_falZ4TsY"
   },
   "outputs": [],
   "source": []
  }
 ],
 "metadata": {
  "colab": {
   "collapsed_sections": [],
   "name": "day0.ipynb",
   "provenance": []
  },
  "kernelspec": {
   "display_name": "Python 3 (ipykernel)",
   "language": "python",
   "name": "python3"
  },
  "language_info": {
   "codemirror_mode": {
    "name": "ipython",
    "version": 3
   },
   "file_extension": ".py",
   "mimetype": "text/x-python",
   "name": "python",
   "nbconvert_exporter": "python",
   "pygments_lexer": "ipython3",
   "version": "3.9.7"
  }
 },
 "nbformat": 4,
 "nbformat_minor": 4
}
