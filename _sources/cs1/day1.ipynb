{
 "cells": [
  {
   "cell_type": "markdown",
   "metadata": {},
   "source": [
    "# Day 1: 四則演算と繰り返し\n",
    "\n",
    "[本日の概要](https://wakita.github.io/classes/y21/cs1/day1.html)\n",
    "\n",
    "# 資料の配布"
   ]
  },
  {
   "cell_type": "code",
   "execution_count": 2,
   "metadata": {
    "colab": {
     "base_uri": "https://localhost:8080/",
     "height": 99
    },
    "id": "XbvrHGDe336T",
    "jupyter": {
     "source_hidden": true
    },
    "outputId": "74b9d1ef-7019-4f13-bd31-568bd329854a",
    "tags": []
   },
   "outputs": [
    {
     "data": {
      "text/html": [
       "<p>前回の資料より「共有されたノートブックの扱いについての<strong style=\"color: red\">超重要な注意点</strong>」</p>"
      ],
      "text/plain": [
       "<IPython.core.display.HTML object>"
      ]
     },
     "execution_count": 2,
     "metadata": {},
     "output_type": "execute_result"
    }
   ],
   "source": [
    "from IPython.display import HTML, display\n",
    "HTML('<p>前回の資料より「共有されたノートブックの扱いについての<strong style=\"color: red\">超重要な注意点</strong>」</p>')"
   ]
  },
  {
   "cell_type": "markdown",
   "metadata": {
    "id": "yLt6k3qgg5a1"
   },
   "source": [
    ">超重要：以外な落とし穴　ところでほかのひとから共有されたノートブックの所有権は共有してくれた人にあります．そういうノートブックも一時的に修正できそうに見えるので，あたかも所有権が自分にあるかのように錯覚します。でも、所有権がほかの人にあるノートブックは保存することができません．\n",
    ">\n",
    ">せっかく編集して，自分好みの内容になっても保存できなければ困ります．そこで，ノートブックを共有されたら，なにはともかくそれを自分のノートブックとして保存しましょう．いったん，自分のノートブックとして保存してしまえば，あとは自分の好きに編集し，それを保存することができます．詳しくは授業のなかでノートブックの Google Drive への保存についてよく学んで下さい．\n",
    "---"
   ]
  },
  {
   "cell_type": "markdown",
   "metadata": {
    "id": "uA68ImN2iKX-"
   },
   "source": [
    "# Python のバージョン\n",
    "\n",
    "**プログラム**はコンピュータへの指示書です．\n",
    "\n",
    "プログラムを記述する作業を**プログラミング**と言います．\n",
    "\n",
    "人に仕事をしてもらうために指示を出すときは，言葉でお願いします．丁寧な言葉で失礼のないようにお願いしますが，指示の内容の仕方は必ずしも厳格ではありませんし，指示された人もこちらの空気を読んでくれることが多いです．このため，世間には曖昧な指示が溢れています．\n",
    "\n",
    "コンピュータに仕事をしてもらうための指示書であるプログラムには厳格な書法があります．人間ならば小さな書式の逸脱には目をつぶって，概ねこちらが期待した仕事をしてくれます．でも，コンピュータはちょっとした書式の逸脱を見逃しません．こちらがきちんと用意したつもりのプログラムでも，小さな間違いが含まれているとコンピュータは頑として実行を拒否します．\n",
    "\n",
    "世界中の人々はさまざまな言語で意思疎通をしています．[Wikipedia に山ほど見つかりました](https://en.wikipedia.org/wiki/List_of_language_names)．ちなみに，Japanese（日本語）と同様に `J` で始まる言語を調べたら，ほかにこんなのが見つかりました．\n",
    "- Jarawa（アンダマン・ニコバル諸島の公用語）\n",
    "- Javanese （ジャワ語；でも公用語はインドネシア語らしい）\n",
    "- Judaeo-Spanish（一部のユダヤ人が使うらしい）\n",
    "- Jutish（デンマークに残っているらしい）\n",
    "- Jerriais（英領ジャージーに残っているらしい）\n",
    "\n",
    "かなりマイナーな言語が残っているんですね．\n",
    "\n",
    "[プログラミング用途にもものすごく多くの言語](https://en.wikipedia.org/wiki/List_of_programming_languages)が使われています．このなかで Python はもっとも人気のあるプログラミング言語のひとつで，初心者にも学びやすいと評判になっています．\n",
    "\n",
    "Python は 1991年に登場しました．2000年に登場した Python 2 が人気を集めました．Python 2 は2020年にサポートが打ち切られ，現在は Python 3 系列のバージョン 3.10 が最新です．\n",
    "\n",
    "バージョン | 説明\n",
    "---|---\n",
    "3.10 | 最新版\n",
    "3.6 | 今年の年末にサポート切れ\n",
    "2.xx | 使ってはいけない，神代の昔にサポートが切れた\n",
    "3.7.12 | Google Colaboratory (2021-10-10 確認)．\n",
    "\n",
    "Google Colaboratory で動いている Python のバージョンを自分で確認したい場合は，コードセルで以下の2行を実行してみましょう．\n",
    "\n",
    "~~~\n",
    "import sys\n",
    "sys.version\n",
    "~~~"
   ]
  },
  {
   "cell_type": "code",
   "execution_count": null,
   "metadata": {
    "colab": {
     "base_uri": "https://localhost:8080/",
     "height": 57
    },
    "id": "BfH5-rQYD7R3",
    "outputId": "9b0e0d82-2a1b-4ee2-a948-2c543eeb078f"
   },
   "outputs": [
    {
     "data": {
      "application/vnd.google.colaboratory.intrinsic+json": {
       "type": "string"
      },
      "text/plain": [
       "'3.7.12 (default, Sep 10 2021, 00:21:48) \\n[GCC 7.5.0]'"
      ]
     },
     "execution_count": 2,
     "metadata": {},
     "output_type": "execute_result"
    }
   ],
   "source": [
    "import sys\n",
    "sys.version"
   ]
  },
  {
   "cell_type": "markdown",
   "metadata": {
    "id": "UJchp-pppref"
   },
   "source": [
    "# 四則演算で遊ぼう\n",
    "\n",
    "- `+`: 加算\n",
    "- `-`: 減算\n",
    "- `*`: 乗算\n",
    "\n",
    "除算はちょっと注意を要します"
   ]
  },
  {
   "cell_type": "code",
   "execution_count": null,
   "metadata": {
    "colab": {
     "base_uri": "https://localhost:8080/"
    },
    "id": "o2tSf8Q3jCMZ",
    "outputId": "e07455cb-d74f-4774-fea9-c1452182e6d7"
   },
   "outputs": [
    {
     "data": {
      "text/plain": [
       "8"
      ]
     },
     "execution_count": 3,
     "metadata": {},
     "output_type": "execute_result"
    }
   ],
   "source": [
    "3 + 5"
   ]
  },
  {
   "cell_type": "code",
   "execution_count": null,
   "metadata": {
    "colab": {
     "base_uri": "https://localhost:8080/"
    },
    "id": "C16GeLKqpu4J",
    "outputId": "803caa30-dea5-4bf2-9438-ef349905260d"
   },
   "outputs": [
    {
     "data": {
      "text/plain": [
       "15"
      ]
     },
     "execution_count": 4,
     "metadata": {},
     "output_type": "execute_result"
    }
   ],
   "source": [
    "3 * 5"
   ]
  },
  {
   "cell_type": "code",
   "execution_count": null,
   "metadata": {
    "colab": {
     "base_uri": "https://localhost:8080/"
    },
    "id": "jbkT0G_ApvxI",
    "outputId": "b6325a4a-2828-4f8e-d9ad-5c34f7ecfde1"
   },
   "outputs": [
    {
     "data": {
      "text/plain": [
       "7"
      ]
     },
     "execution_count": 5,
     "metadata": {},
     "output_type": "execute_result"
    }
   ],
   "source": [
    "1 + 2 * 3"
   ]
  },
  {
   "cell_type": "code",
   "execution_count": null,
   "metadata": {
    "colab": {
     "base_uri": "https://localhost:8080/"
    },
    "id": "GuCg9PCRpw-e",
    "outputId": "6fe3e3cd-19e8-451a-8e4a-4c6f3437a025"
   },
   "outputs": [
    {
     "data": {
      "text/plain": [
       "9"
      ]
     },
     "execution_count": 6,
     "metadata": {},
     "output_type": "execute_result"
    }
   ],
   "source": [
    "(1 + 2) * 3"
   ]
  },
  {
   "cell_type": "markdown",
   "metadata": {
    "id": "ARRff0JVqHlH"
   },
   "source": [
    "## ちょっと注意を要する除算\n",
    "\n",
    "すこしややこしい点がある，除算はコンピュータサイエンス第二で扱います．でも，簡単に説明しちゃう．\n",
    "\n",
    "- `/` (`X / Y`): は実数の割り算．（厳密には無視したくなるほどの誤差はある）\n",
    "\n",
    "- `//` (`X // Y`): 剰余を切り捨てた割り算．計算結果は整数．\n",
    "\n",
    "当面は二種類の除算があることを覚えておいて下さい．Python に限らず，どのプログラミング言語もだいたい二種類の除算を提供します．"
   ]
  },
  {
   "cell_type": "code",
   "execution_count": null,
   "metadata": {
    "colab": {
     "base_uri": "https://localhost:8080/"
    },
    "id": "CgOLRfYhpySc",
    "outputId": "d3bd3717-a1a5-40c2-eace-0d05124b975e"
   },
   "outputs": [
    {
     "data": {
      "text/plain": [
       "3.3333333333333335"
      ]
     },
     "execution_count": 7,
     "metadata": {},
     "output_type": "execute_result"
    }
   ],
   "source": [
    "10 / 3"
   ]
  },
  {
   "cell_type": "code",
   "execution_count": null,
   "metadata": {
    "colab": {
     "base_uri": "https://localhost:8080/"
    },
    "id": "Z--r3xEBqLm0",
    "outputId": "527a00a6-1cda-4ab2-f972-ce912b07ca67"
   },
   "outputs": [
    {
     "data": {
      "text/plain": [
       "3"
      ]
     },
     "execution_count": 8,
     "metadata": {},
     "output_type": "execute_result"
    }
   ],
   "source": [
    "10 // 3"
   ]
  },
  {
   "cell_type": "markdown",
   "metadata": {
    "id": "ZtzwoO7YrPVP"
   },
   "source": [
    "# 変数：計算結果に名前を与えて、内容を更新する\n",
    "\n",
    "計算結果に名前を与えて，その名前で計算結果を参照できるようにする仕組み\n",
    "\n",
    "\n",
    "\n",
    "- さらに，その名前に別な計算結果を上書きして更新することもできる．"
   ]
  },
  {
   "cell_type": "code",
   "execution_count": null,
   "metadata": {
    "id": "V9TkKgRFq1a7"
   },
   "outputs": [],
   "source": [
    "a = 3"
   ]
  },
  {
   "cell_type": "code",
   "execution_count": null,
   "metadata": {
    "id": "_tUIbaZVr-BQ"
   },
   "outputs": [],
   "source": [
    "b = 4"
   ]
  },
  {
   "cell_type": "code",
   "execution_count": null,
   "metadata": {
    "id": "kf78clpxu6eS"
   },
   "outputs": [],
   "source": [
    "c = 5"
   ]
  },
  {
   "cell_type": "code",
   "execution_count": null,
   "metadata": {
    "colab": {
     "base_uri": "https://localhost:8080/"
    },
    "id": "XTDN-zhau8nC",
    "outputId": "cf242952-f2e4-4825-9d3d-f53ceb8bbd81"
   },
   "outputs": [
    {
     "data": {
      "text/plain": [
       "25"
      ]
     },
     "execution_count": 12,
     "metadata": {},
     "output_type": "execute_result"
    }
   ],
   "source": [
    "a * a + b * b"
   ]
  },
  {
   "cell_type": "code",
   "execution_count": null,
   "metadata": {
    "colab": {
     "base_uri": "https://localhost:8080/"
    },
    "id": "4e_-cHP0u-3Z",
    "outputId": "a3f70479-7718-4b98-ef9a-c00f4d64ff29"
   },
   "outputs": [
    {
     "data": {
      "text/plain": [
       "25"
      ]
     },
     "execution_count": 13,
     "metadata": {},
     "output_type": "execute_result"
    }
   ],
   "source": [
    "c * c"
   ]
  },
  {
   "cell_type": "code",
   "execution_count": null,
   "metadata": {
    "colab": {
     "base_uri": "https://localhost:8080/"
    },
    "id": "8Ew1Ayn8vAgo",
    "outputId": "de3ad202-3cbd-4412-9a9c-304c135e83e3"
   },
   "outputs": [
    {
     "data": {
      "text/plain": [
       "0"
      ]
     },
     "execution_count": 14,
     "metadata": {},
     "output_type": "execute_result"
    }
   ],
   "source": [
    "(a * a + b * b) - (c * c)"
   ]
  },
  {
   "cell_type": "markdown",
   "metadata": {
    "id": "u17UKpIRt2D5"
   },
   "source": [
    "3辺の長さが (3, 4, 5) な三角形が三平方の定理を満たすことが確認できました．"
   ]
  },
  {
   "cell_type": "markdown",
   "metadata": {
    "id": "XvHKAhZ9t_FL"
   },
   "source": [
    "r = 7"
   ]
  },
  {
   "cell_type": "markdown",
   "metadata": {
    "id": "VNZ36VyxtEaW"
   },
   "source": [
    "## 変数の名前\n",
    "\n",
    "変数の名前は，英字の小文字 (`a` .. `z`)，大文字 (`A` .. `Z`)，数字 (`0` .. `9`), `_` などから構成されるが，最初の文字に数字は用いることができない．\n",
    "\n",
    "滅多に使われないがひらがな，カタカナ，漢字も使える．\n"
   ]
  },
  {
   "cell_type": "code",
   "execution_count": null,
   "metadata": {
    "id": "Z-CJoUwBr-ga"
   },
   "outputs": [],
   "source": [
    "二乗3 = 3 * 3"
   ]
  },
  {
   "cell_type": "code",
   "execution_count": null,
   "metadata": {
    "id": "lvHar6iaugvl"
   },
   "outputs": [],
   "source": [
    "二乗4 = 4 * 4"
   ]
  },
  {
   "cell_type": "code",
   "execution_count": null,
   "metadata": {
    "colab": {
     "base_uri": "https://localhost:8080/"
    },
    "id": "vvX8-xlAven3",
    "outputId": "02b581bd-be65-47a9-e59a-ead5d65bbce4"
   },
   "outputs": [
    {
     "data": {
      "text/plain": [
       "25"
      ]
     },
     "execution_count": 20,
     "metadata": {},
     "output_type": "execute_result"
    }
   ],
   "source": [
    "二乗3 + 二乗4"
   ]
  },
  {
   "cell_type": "code",
   "execution_count": null,
   "metadata": {
    "id": "oppzMaTlGrLt"
   },
   "outputs": [],
   "source": [
    "a = 5"
   ]
  },
  {
   "cell_type": "code",
   "execution_count": null,
   "metadata": {
    "colab": {
     "base_uri": "https://localhost:8080/"
    },
    "id": "wl4FMoTkGtS3",
    "outputId": "c21c72f9-4458-4cc0-f99a-ad384d795a04"
   },
   "outputs": [
    {
     "data": {
      "text/plain": [
       "5"
      ]
     },
     "execution_count": 17,
     "metadata": {},
     "output_type": "execute_result"
    }
   ],
   "source": [
    "a"
   ]
  },
  {
   "cell_type": "code",
   "execution_count": null,
   "metadata": {
    "colab": {
     "base_uri": "https://localhost:8080/",
     "height": 152
    },
    "id": "7v6Rdcx9vmh1",
    "outputId": "6e3e7e77-f4de-4200-8c39-212b559ef7e2"
   },
   "outputs": [
    {
     "ename": "SyntaxError",
     "evalue": "ignored",
     "output_type": "error",
     "traceback": [
      "\u001b[0;36m  File \u001b[0;32m\"<ipython-input-31-61a66a738e82>\"\u001b[0;36m, line \u001b[0;32m1\u001b[0m\n\u001b[0;31m    3二乗\u001b[0m\n\u001b[0m      ^\u001b[0m\n\u001b[0;31mSyntaxError\u001b[0m\u001b[0;31m:\u001b[0m invalid syntax\n"
     ]
    }
   ],
   "source": [
    "3二乗"
   ]
  },
  {
   "cell_type": "markdown",
   "metadata": {
    "id": "K4q2WLlrvt_O"
   },
   "source": [
    "↑ 変数の名前の「最初の一文字に数字は使えない」ので怒られました．"
   ]
  },
  {
   "cell_type": "code",
   "execution_count": null,
   "metadata": {
    "colab": {
     "base_uri": "https://localhost:8080/",
     "height": 188
    },
    "id": "ncIzoItsvpv9",
    "outputId": "ee2fbd41-cbc3-4a86-ee90-243ffed7f516"
   },
   "outputs": [
    {
     "ename": "NameError",
     "evalue": "ignored",
     "output_type": "error",
     "traceback": [
      "\u001b[0;31m---------------------------------------------------------------------------\u001b[0m",
      "\u001b[0;31mNameError\u001b[0m                                 Traceback (most recent call last)",
      "\u001b[0;32m<ipython-input-32-b7ae48a0d71c>\u001b[0m in \u001b[0;36m<module>\u001b[0;34m()\u001b[0m\n\u001b[0;32m----> 1\u001b[0;31m \u001b[0m二乗7\u001b[0m\u001b[0;34m\u001b[0m\u001b[0;34m\u001b[0m\u001b[0m\n\u001b[0m",
      "\u001b[0;31mNameError\u001b[0m: name '二乗7' is not defined"
     ]
    }
   ],
   "source": [
    "二乗7"
   ]
  },
  {
   "cell_type": "markdown",
   "metadata": {
    "id": "QVbMHAzjwEgt"
   },
   "source": [
    "↑ `二乗7` という名前は定義していないので怒られました．"
   ]
  },
  {
   "cell_type": "markdown",
   "metadata": {
    "id": "mGqEsjtcwNUh"
   },
   "source": [
    "# 真偽値と比較\n",
    "\n",
    "## 真偽値\n",
    "\n",
    "- 「真」，つまり「正しいこと」を Python では `True` で表します．\n",
    "\n",
    "- 「偽」，つまり「誤っていること」を Python では `False` で表します．（発音は「フォールス」 「~ファールス~」）"
   ]
  },
  {
   "cell_type": "code",
   "execution_count": null,
   "metadata": {
    "colab": {
     "base_uri": "https://localhost:8080/"
    },
    "id": "YrvCape2wCjP",
    "outputId": "afce8961-aa5c-43e4-fcde-5edc82418cc1"
   },
   "outputs": [
    {
     "data": {
      "text/plain": [
       "True"
      ]
     },
     "execution_count": 22,
     "metadata": {},
     "output_type": "execute_result"
    }
   ],
   "source": [
    "True"
   ]
  },
  {
   "cell_type": "code",
   "execution_count": null,
   "metadata": {
    "colab": {
     "base_uri": "https://localhost:8080/"
    },
    "id": "oi38bmfQwy95",
    "outputId": "fcbc6d0a-af93-46df-8953-82c41951dfc3"
   },
   "outputs": [
    {
     "data": {
      "text/plain": [
       "False"
      ]
     },
     "execution_count": 23,
     "metadata": {},
     "output_type": "execute_result"
    }
   ],
   "source": [
    "False"
   ]
  },
  {
   "cell_type": "markdown",
   "metadata": {
    "id": "-1MSm9-fw2vh"
   },
   "source": [
    "## コラム（ものを識別するということ）\n",
    "\n",
    "いま `True` と `False` というふたつのものを導入しました。ふたつのものがあったとしても、その違いが観測できなければ、その違いはないに等しいと思えませんか？\n",
    "\n",
    "人類が元素の概念を確立したのは、ギリシア時代だという説があります。古代ギリシアのある時代には火、空気、水、土を元素とする世界観が提唱されました。現代人の感覚からするとすこし滑稽なところがあります。しかし、原子の存在が確実に認められ、さまざまな原子が発見されたのは初期の原子論から数千年を経た19世紀になります。それまで、原子を観測するすべを人類は持っていなかったからです。このため、理論として原子論があったとしても、原子を確実に区別る手段がなかった、したがって四大元素説も不確かなものとして受け止められたのでしょう。\n",
    "\n",
    "「`True` と `False` があります」と主張しただけでは、これらふたつは存在しているとは言い難いです。これらを区別できて始めて、`True` と `False` が意味あるものとして存在できます。\n",
    "\n",
    "Python において真偽値を区別して `True` か `False` かを判定して，プログラムの振舞いを変える仕組みに次の節で詳しく学ぶ `if ...:` があります．データの種類を区別するために、プログラミング言語の機能が提供されているという考え方はとても大切です。\n",
    "\n",
    "以下は真偽値によって、出力を変えるプログラムの例です。`if ...:` という機能については、「条件分岐: `if ...:` と `else:` で説明します。\n"
   ]
  },
  {
   "cell_type": "code",
   "execution_count": null,
   "metadata": {
    "colab": {
     "base_uri": "https://localhost:8080/"
    },
    "id": "la9Kxifwwzg-",
    "outputId": "76cfbb40-1861-4e5d-e598-89035d9666a5"
   },
   "outputs": [
    {
     "name": "stdout",
     "output_type": "stream",
     "text": [
      "明日は幸せになるぞ！\n"
     ]
    }
   ],
   "source": [
    "i_am_happy = False\n",
    "\n",
    "if i_am_happy:\n",
    "    print('今日は幸せだ！')\n",
    "else:\n",
    "    print('明日は幸せになるぞ！')"
   ]
  },
  {
   "cell_type": "markdown",
   "metadata": {
    "id": "M15A3z5fF2FR"
   },
   "source": [
    "## 比較 → 真偽値\n",
    "\n",
    "数値の大きさを比較することで真偽値を得ることができます．\n",
    "\n",
    "- `X == Y`: X と Y が等しいか否か\n",
    "\n",
    "- `X != Y`: X と Y が異なるか否か\n",
    "\n",
    "- `X < Y`: X が Y より小さいか否か\n",
    "\n",
    "- `X <= Y`: X が Y 以下か否か\n",
    "\n",
    "- `X > Y`: X が Y より大きいか否か\n",
    "\n",
    "- `X >= Y`: X が Y 以上か否か"
   ]
  },
  {
   "cell_type": "code",
   "execution_count": null,
   "metadata": {
    "colab": {
     "base_uri": "https://localhost:8080/"
    },
    "id": "GGCGETMmxRz1",
    "outputId": "f7b2f3f0-41a5-4abf-81eb-1f3a11000be9"
   },
   "outputs": [
    {
     "data": {
      "text/plain": [
       "True"
      ]
     },
     "execution_count": 26,
     "metadata": {},
     "output_type": "execute_result"
    }
   ],
   "source": [
    "10 == 3 + 7"
   ]
  },
  {
   "cell_type": "code",
   "execution_count": null,
   "metadata": {
    "colab": {
     "base_uri": "https://localhost:8080/"
    },
    "id": "byBgMToKGdjb",
    "outputId": "69ac9dd2-8fea-45b8-a88d-093c4ac6a769"
   },
   "outputs": [
    {
     "data": {
      "text/plain": [
       "False"
      ]
     },
     "execution_count": 27,
     "metadata": {},
     "output_type": "execute_result"
    }
   ],
   "source": [
    "10 == 11"
   ]
  },
  {
   "cell_type": "code",
   "execution_count": null,
   "metadata": {
    "colab": {
     "base_uri": "https://localhost:8080/"
    },
    "id": "spWDhPhUGfG3",
    "outputId": "5147194b-c568-468f-8881-81ec29dee3fd"
   },
   "outputs": [
    {
     "data": {
      "text/plain": [
       "True"
      ]
     },
     "execution_count": 28,
     "metadata": {},
     "output_type": "execute_result"
    }
   ],
   "source": [
    "10 != 11"
   ]
  },
  {
   "cell_type": "code",
   "execution_count": null,
   "metadata": {
    "colab": {
     "base_uri": "https://localhost:8080/"
    },
    "id": "8rxJTVWIGiAI",
    "outputId": "2a2827c6-e790-496a-c1c9-49267ec253a5"
   },
   "outputs": [
    {
     "data": {
      "text/plain": [
       "True"
      ]
     },
     "execution_count": 29,
     "metadata": {},
     "output_type": "execute_result"
    }
   ],
   "source": [
    "10 < 11"
   ]
  },
  {
   "cell_type": "code",
   "execution_count": null,
   "metadata": {
    "colab": {
     "base_uri": "https://localhost:8080/"
    },
    "id": "5iSjzNnjGkFw",
    "outputId": "e9391230-2293-4c36-e3f8-25b7f1eda6df"
   },
   "outputs": [
    {
     "data": {
      "text/plain": [
       "False"
      ]
     },
     "execution_count": 30,
     "metadata": {},
     "output_type": "execute_result"
    }
   ],
   "source": [
    "10 < 10"
   ]
  },
  {
   "cell_type": "code",
   "execution_count": null,
   "metadata": {
    "colab": {
     "base_uri": "https://localhost:8080/"
    },
    "id": "p13LO5L2GkwW",
    "outputId": "37d0e353-16b3-44d5-b9c9-a48e7e7f8f99"
   },
   "outputs": [
    {
     "data": {
      "text/plain": [
       "True"
      ]
     },
     "execution_count": 31,
     "metadata": {},
     "output_type": "execute_result"
    }
   ],
   "source": [
    "10 <= 10"
   ]
  },
  {
   "cell_type": "markdown",
   "metadata": {
    "id": "i24xsM3NGomw"
   },
   "source": [
    "# 例題: 最初の Python プログラム - **Add**\n",
    "\n",
    "プログラムの働き：\n",
    "\n",
    "- ふたつの整数 a, b を読み込む\n",
    "\n",
    "- ふたつの整数の和を表示する"
   ]
  },
  {
   "cell_type": "code",
   "execution_count": null,
   "metadata": {
    "colab": {
     "base_uri": "https://localhost:8080/"
    },
    "id": "zhnvc8yaGlvN",
    "outputId": "a9c262b5-a0bb-46eb-e92a-846154a8964b"
   },
   "outputs": [
    {
     "name": "stdout",
     "output_type": "stream",
     "text": [
      "a = 3\n",
      "b = 4\n",
      "a + b = 7\n"
     ]
    }
   ],
   "source": [
    "# Add\n",
    "# 入力: ふたつの整数: a, b\n",
    "# 出力: a と b の和\n",
    "\n",
    "a = int(input('a = '))\n",
    "b = int(input('b = '))\n",
    "和 = a + b\n",
    "print('a + b =', 和)"
   ]
  },
  {
   "cell_type": "markdown",
   "metadata": {
    "id": "47nwdeROH6Ks"
   },
   "source": [
    "## プログラムの説明\n",
    "\n",
    "1. プログラムは最初の行から順番に一行ずつ処理します．\n",
    "\n",
    "1. `#` で始まる行はなんの効果もない．このような行はプログラムの働きの説明文として使われ，**コメント**と呼びます．\n",
    "\n",
    "1. `input('a = ')`: `a = ` を表示し，データの入力を促す．入力したデータが `input('a = ')` の値となります．\n",
    "\n",
    "1. `int(input('a = '))`: `input('a = ')` によって入力されたデータを整数 (`int` は *integer* (整数) を意味する)として解釈します．\n",
    "\n",
    "1. `print(A, B)`: A と B の計算結果を表示します．\n",
    "\n",
    "## やってみよう\n",
    "\n",
    "- (3 + 8) を計算して，その結果が正しいか確認しましょう．\n",
    "\n",
    "- (11 + 13) を計算して，その結果が正しいか確認しましょう．\n",
    "\n",
    "## 負の整数も入力してみよう\n",
    "\n",
    "- ((-5) + (-13)) を計算してその結果が正しいか確認しましょう．"
   ]
  },
  {
   "cell_type": "markdown",
   "metadata": {
    "id": "9H14wkEGJblW"
   },
   "source": [
    "## 条件分岐: `if ...:` と `else:`\n",
    "\n",
    "~~~python\n",
    "if 条件式:\n",
    "    ブロック1       # 条件式が真のときに処理される\n",
    "else:\n",
    "    ブロック2       # 条件式が偽のときに処理される\n",
    "~~~\n",
    "\n",
    "**ブロック**とは\n",
    "- 連続した行で，同じだけ字下げされたものを「ブロック」と呼びます．\n",
    "\n",
    "    字下げとは，行の先頭にある一個以上の空白（全角スペースは字下げと見做されません．Tab は推奨されません）\n",
    "\n",
    "        111\n",
    "        222\n",
    "            333\n",
    "            444\n",
    "                555\n",
    "                666\n",
    "            777\n",
    "            888\n",
    "        999\n",
    "\n",
    "    上の例は5つのブロックを含みます．最初のブロックは `111` と `222` を含み，字下げがありません（各行の先頭に空白がない）．二番目のブロックは `333` と `444` を含み，4文字分の字下げが施されています．三番目のブロックは `555` と `666` を含み，8文字分の字下げが施されています．四番目のブロックは `777` と `888` を含み，4文字分の字下げが施されています．最後のブロックは `999` のみを含み字下げがありません．"
   ]
  },
  {
   "cell_type": "markdown",
   "metadata": {
    "id": "Fd18sJebMh3Z"
   },
   "source": [
    "## 例題：最大値を求めるプログラム - **Max**"
   ]
  },
  {
   "cell_type": "code",
   "execution_count": null,
   "metadata": {
    "colab": {
     "base_uri": "https://localhost:8080/"
    },
    "id": "W8EoZLy6G_Sl",
    "outputId": "cc91b459-e1e0-42dd-fe48-0b524cec3fb2"
   },
   "outputs": [
    {
     "name": "stdout",
     "output_type": "stream",
     "text": [
      "a = 5\n",
      "b = 5\n",
      "max = 5\n"
     ]
    }
   ],
   "source": [
    "# 入力：整数 a, b\n",
    "# 出力：a と b の最大値\n",
    "\n",
    "a = int(input('a = '))\n",
    "b = int(input('b = '))\n",
    "\n",
    "if a > b:\n",
    "    max = a\n",
    "else:\n",
    "    max = b\n",
    "print('max =', max)"
   ]
  },
  {
   "cell_type": "markdown",
   "metadata": {
    "id": "THsvqsXhNPLX"
   },
   "source": [
    "## 例題：ブロックについて確認するために"
   ]
  },
  {
   "cell_type": "code",
   "execution_count": null,
   "metadata": {
    "colab": {
     "base_uri": "https://localhost:8080/"
    },
    "id": "26BMAo_4M50O",
    "outputId": "39fcaa9f-b999-4687-a693-8840c933084e"
   },
   "outputs": [
    {
     "name": "stdout",
     "output_type": "stream",
     "text": [
      "a = 5\n",
      "b = 6\n",
      "a の方が大きいかもしれないし，\n",
      "b の方が大きいかもしれません．\n",
      "でも，a と b が同じ大きさということはありえません．\n"
     ]
    }
   ],
   "source": [
    "a = int(input('a = '))\n",
    "b = int(input('b = '))\n",
    "\n",
    "if a == b:\n",
    "    print('a と b は同じ大きさです．')\n",
    "else:\n",
    "    print('a の方が大きいかもしれないし，')\n",
    "    print('b の方が大きいかもしれません．')\n",
    "    print('でも，a と b が同じ大きさということはありえません．')"
   ]
  },
  {
   "cell_type": "code",
   "execution_count": null,
   "metadata": {
    "colab": {
     "base_uri": "https://localhost:8080/"
    },
    "id": "q0UBtb_fN5sp",
    "outputId": "a3b89889-2325-41d9-c76e-325e8491935c"
   },
   "outputs": [
    {
     "name": "stdout",
     "output_type": "stream",
     "text": [
      "a = 5\n",
      "b = 5\n",
      "a と b は同じ大きさです．\n",
      "ちゃんと確認できましたか？\n"
     ]
    }
   ],
   "source": [
    "a = int(input('a = '))\n",
    "b = int(input('b = '))\n",
    "\n",
    "if a == b:\n",
    "    print('a と b は同じ大きさです．')\n",
    "else:\n",
    "    print('a の方が大きいかもしれないし，')\n",
    "    print('b の方が大きいかもしれません．')\n",
    "    print('でも，a と b が同じ大きさということはありえません．')\n",
    "\n",
    "print('ちゃんと確認できましたか？')"
   ]
  },
  {
   "cell_type": "markdown",
   "metadata": {
    "id": "j97xuqFNOYas"
   },
   "source": [
    "## 条件文の入れ子（ネスト）"
   ]
  },
  {
   "cell_type": "code",
   "execution_count": null,
   "metadata": {
    "colab": {
     "base_uri": "https://localhost:8080/"
    },
    "id": "Zu5LXHjfONc3",
    "outputId": "60219fee-6c80-40ee-acf1-7267db19d9d0"
   },
   "outputs": [
    {
     "name": "stdout",
     "output_type": "stream",
     "text": [
      "a = 10000000000000\n",
      "正の値\n"
     ]
    }
   ],
   "source": [
    "# 以下のプログラムについて a = -1, 0, 1 を与えて振舞いを確認して下さい．\n",
    "\n",
    "ａ = int(input('a = '))\n",
    "\n",
    "if a < 0:\n",
    "    print('負の値')\n",
    "else:\n",
    "    if a == 0:\n",
    "        print('ゼロ')\n",
    "    else:\n",
    "        print('正の値')"
   ]
  },
  {
   "cell_type": "markdown",
   "metadata": {
    "id": "1SdN8sNUO_tP"
   },
   "source": [
    "## `elif ...:` という書き方もあります\n",
    "\n",
    "`elif ...:` という書き方をすると入れ子の条件文を入れ子のない形式に書き換えられることがあります．\n",
    "\n",
    "`elif ...:` は `else if ...:` の省略形で「そうでなくて，… だったら」の意味です．"
   ]
  },
  {
   "cell_type": "code",
   "execution_count": null,
   "metadata": {
    "colab": {
     "base_uri": "https://localhost:8080/"
    },
    "id": "ZkVp6sdpOwfb",
    "outputId": "7967f0e3-66e0-4f80-e1c9-c8adc4ac28fa"
   },
   "outputs": [
    {
     "name": "stdout",
     "output_type": "stream",
     "text": [
      "a = 1\n",
      "正の値\n"
     ]
    }
   ],
   "source": [
    "# \n",
    "\n",
    "ａ = int(input('a = '))\n",
    "\n",
    "if a < 0:\n",
    "    print('負の値')\n",
    "elif a == 0:\n",
    "    print('ゼロ')\n",
    "else:\n",
    "    print('正の値')"
   ]
  },
  {
   "cell_type": "markdown",
   "metadata": {
    "id": "IDei87NDQCDD"
   },
   "source": [
    "## `else:` がなくても構いません\n",
    "\n",
    "`else:` がない `if ...:` 文は，条件式が真の場合だけ処理されます．"
   ]
  },
  {
   "cell_type": "code",
   "execution_count": null,
   "metadata": {
    "colab": {
     "base_uri": "https://localhost:8080/"
    },
    "id": "4QjdkVZ7PVgp",
    "outputId": "fe0d900d-c426-4c68-831f-f55a4ee090f4"
   },
   "outputs": [
    {
     "name": "stdout",
     "output_type": "stream",
     "text": [
      "a = 7\n",
      "b = 5\n",
      "c = 3\n",
      "max: 7\n"
     ]
    }
   ],
   "source": [
    "# 三つの値 a, b, c の最大値を計算\n",
    "\n",
    "a = int(input('a = '))\n",
    "b = int(input('b = '))\n",
    "c = int(input('c = '))\n",
    "\n",
    "max = a\n",
    "\n",
    "if b > max:\n",
    "    max = b\n",
    "\n",
    "if c > max:\n",
    "    max = c\n",
    "\n",
    "print('max:', max)"
   ]
  },
  {
   "cell_type": "markdown",
   "metadata": {
    "id": "5_KLrLJmQ9XB"
   },
   "source": [
    "## 例題：3つの数の中央値 (medium) の計算\n",
    "\n",
    "以下のプログラムの二箇所の `???` を適切な条件式で置き換えて，a, b, c の中央値を表示するプログラムに修正しなさい．"
   ]
  },
  {
   "cell_type": "code",
   "execution_count": null,
   "metadata": {
    "colab": {
     "base_uri": "https://localhost:8080/"
    },
    "id": "Wjn8inenQcbn",
    "outputId": "1cd56bf5-0e43-4509-c035-4964861727c8"
   },
   "outputs": [
    {
     "name": "stdout",
     "output_type": "stream",
     "text": [
      "a = 3\n",
      "b = 2\n",
      "c = 6\n",
      "3\n"
     ]
    }
   ],
   "source": [
    "a = int(input('a = '))\n",
    "b = int(input('b = '))\n",
    "c = int(input('c = '))\n",
    "\n",
    "if a < b:\n",
    "    min = a\n",
    "    max = b\n",
    "else:\n",
    "    min = b\n",
    "    max = a\n",
    "# この時点で min <= max が確定している\n",
    "\n",
    "if c < min:        # c, [min], max\n",
    "    print(min)\n",
    "elif c < max:      # min, [c], max\n",
    "    print(c)\n",
    "else:\n",
    "    print(max)     # min, [max], c"
   ]
  },
  {
   "cell_type": "markdown",
   "metadata": {
    "id": "Zh_rE1gdRtnr"
   },
   "source": [
    "# 繰り返し (`while ...:`)\n",
    "\n",
    "まずは $\\left(\\sum_{i=1}^n i\\right)$を計算する例題から\n",
    "\n",
    "1. 非負整数 n を入力する．\n",
    "\n",
    "1. (1 + 2 + ... + n) を計算する．"
   ]
  },
  {
   "cell_type": "code",
   "execution_count": null,
   "metadata": {
    "colab": {
     "base_uri": "https://localhost:8080/"
    },
    "id": "_2tFTkiARpiz",
    "outputId": "efcafc90-2077-4667-e8c0-bda09b665e15"
   },
   "outputs": [
    {
     "name": "stdout",
     "output_type": "stream",
     "text": [
      "n = 10\n",
      "1 2\n",
      "3 3\n",
      "6 4\n",
      "10 5\n",
      "15 6\n",
      "21 7\n",
      "28 8\n",
      "36 9\n",
      "45 10\n",
      "55 11\n",
      "55\n"
     ]
    }
   ],
   "source": [
    "# いくつかの n について，(1 + 2 + ... + n) が正しく計算できることを確認しましょう．\n",
    "\n",
    "n = int(input('n = '))\n",
    "\n",
    "合計 = 0\n",
    "i = 1\n",
    "while i <= n:\n",
    "    合計 = 合計 + i\n",
    "    i = i + 1\n",
    "    print(合計, i)\n",
    "print(合計)"
   ]
  },
  {
   "cell_type": "markdown",
   "metadata": {
    "id": "HZBjotd9S5DQ"
   },
   "source": [
    "## `while 条件式:` の処理\n",
    "\n",
    "1. `条件式` を計算する．\n",
    "\n",
    "    - `条件式` の計算結果が `True` の場合：\n",
    "\n",
    "        1. 条件式に続くブロックを処理する\n",
    "\n",
    "        1. `条件式` の行に戻って，計算を繰り返す\n",
    "\n",
    "    - `条件式` の計算結果が `False` の場合\n",
    "        \n",
    "        `while 条件式:` の処理を終える．`while` 文に続くブロックの処理も終える．\n",
    "\n",
    "`n = 3` の場合\n",
    "\n",
    "繰り返しの構造 | 処理内容 | iの値 | 合計の値 | 条件式の値\n",
    "-------------|--------|---------|------------|----------\n",
    "繰り返しにはいる前 | 合計 = 0 | ?       | 0          |\n",
    "                | i = 1   | 1       | 0          |\n",
    "最初の繰り返し     | while i <= n | 1 | 0 | True\n",
    "                | 合計 = 合計 + i | 1 | 1 |\n",
    "                | i = i + 1 | 2 | 1 |\n",
    "二番目の繰り返し   | while i <= n | 2 | 1 | True\n",
    "                | 合計 = 合計 + i | 1 | 3 |\n",
    "                | i = i + 1 | 3 | 3 |\n",
    "三番目の繰り返し   | while i <= n | 3 | 3 | True\n",
    "                | 合計 = 合計 + i | 3 | 6 |\n",
    "                | i = i + 1 | 4 | 6 |\n",
    "四番目の繰り返し   | while i <= n | 4 | 6 | False\n",
    "繰り返しは脱出した | print(合計) | 4 | 6 |\n",
    "\n"
   ]
  },
  {
   "cell_type": "markdown",
   "metadata": {
    "id": "p62lhTpeVtjn"
   },
   "source": [
    "## 例題：乗算を加算と減算で実現\n",
    "\n",
    "- 非負整数 x, y を入力する\n",
    "\n",
    "- x を y 回加算: (x + x + ... + x)"
   ]
  },
  {
   "cell_type": "code",
   "execution_count": null,
   "metadata": {
    "colab": {
     "base_uri": "https://localhost:8080/"
    },
    "id": "b6S5M4gOSn_V",
    "outputId": "570f25e3-2b71-4c9f-d86a-021c49251f94"
   },
   "outputs": [
    {
     "name": "stdout",
     "output_type": "stream",
     "text": [
      "x = 10\n",
      "y = 10\n",
      "100\n"
     ]
    }
   ],
   "source": [
    "# Multiply\n",
    "\n",
    "x = int(input('x = '))\n",
    "y = int(input('y = '))\n",
    "\n",
    "積 = 0\n",
    "while y > 0:\n",
    "    積 = 積 + x\n",
    "    y = y - 1\n",
    "\n",
    "print(積)"
   ]
  },
  {
   "cell_type": "markdown",
   "metadata": {
    "id": "g2mSHFLwWWBi"
   },
   "source": [
    "# 宿題：プログラミング課題\n",
    "\n",
    "- 入力：正整数 x, y を入力する\n",
    "\n",
    "- 出力：x ÷ y の商と余り\n",
    "\n",
    "- ただし，計算には加算 (`+`) と減算 (`-`) を用いて構わないが，除算 (`/` と `//`) は用いてはならない．"
   ]
  },
  {
   "cell_type": "code",
   "execution_count": null,
   "metadata": {
    "id": "3DKeZdWcWRHb"
   },
   "outputs": [],
   "source": [
    "x = int(input('x = '))\n",
    "y = int(input('y = '))\n",
    "\n",
    "商 = ...\n",
    "余り = ...\n",
    "while ...:\n",
    "    商 = ...\n",
    "    余り = 余り - y\n",
    "\n",
    "print(商)\n",
    "print(余り)"
   ]
  },
  {
   "cell_type": "markdown",
   "metadata": {
    "id": "5CSc-f8U6jqd"
   },
   "source": [
    "（宿題の Google Form へのリンクを学生さんに共有すること）"
   ]
  }
 ],
 "metadata": {
  "colab": {
   "collapsed_sections": [],
   "name": "day1.ipynb",
   "provenance": [],
   "toc_visible": true
  },
  "kernelspec": {
   "display_name": "Python 3 (ipykernel)",
   "language": "python",
   "name": "python3"
  },
  "language_info": {
   "codemirror_mode": {
    "name": "ipython",
    "version": 3
   },
   "file_extension": ".py",
   "mimetype": "text/x-python",
   "name": "python",
   "nbconvert_exporter": "python",
   "pygments_lexer": "ipython3",
   "version": "3.9.7"
  },
  "toc-autonumbering": false
 },
 "nbformat": 4,
 "nbformat_minor": 4
}
