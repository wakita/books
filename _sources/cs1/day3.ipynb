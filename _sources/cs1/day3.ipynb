{
 "cells": [
  {
   "cell_type": "markdown",
   "metadata": {},
   "source": [
    "# Day 3: 配列と文字列１\n",
    "\n",
    "\n",
    ":::{admonition} 資料の配布についての**超重要な注意点**\n",
    ":class: tip, dropdown\n",
    "**超重要**：以外な落とし穴　ところでほかのひとから共有されたノートブックの所有権は共有してくれた人にあります．そういうノートブックも一時的に修正できそうに見えるので，あたかも所有権が自分にあるかのように錯覚します。でも、所有権がほかの人にあるノートブックは保存することができません．\n",
    "\n",
    "せっかく編集して，自分好みの内容になっても保存できなければ困ります．そこで，ノートブックを共有されたら，なにはともかくそれを自分のノートブックとして保存しましょう．いったん，自分のノートブックとして保存してしまえば，あとは自分の好きに編集し，それを保存することができます．詳しくは授業のなかでノートブックの Google Drive への保存についてよく学んで下さい．\n",
    ":::"
   ]
  },
  {
   "cell_type": "markdown",
   "metadata": {},
   "source": [
    "[本日の概要](https://wakita.github.io/classes/y21/cs1/day2.html)"
   ]
  },
  {
   "cell_type": "markdown",
   "metadata": {
    "id": "5CSc-f8U6jqd"
   },
   "source": [
    "（レポート課題の Google Form へのリンクを学生さんに共有すること）"
   ]
  },
  {
   "cell_type": "markdown",
   "metadata": {
    "id": "JQ3-_BcyQhWQ"
   },
   "source": [
    "# CS第一 テーマ2\n",
    "\n",
    "テーマ1 の目的は計算のなりたちと、計算に必須の要素（計算のアトム）を見つけること、そして計算のアトムの積み重ねで複雑な計算を構成できることを理解することでした。\n",
    "\n",
    "## テーマ2の目標: プログラミング体験\n",
    "\n",
    "テーマ2では、効率的なプログラミングのために考案されたプログラミング機能について学び、プログラミング技法を習得します。\n",
    "\n",
    "テーマ1では、加減乗除とwhile文縛りの苦しいプログラミングをしましたが、テーマ2ではその縛りをはずし、自然で読み易いプログラムを作ります。\n",
    "\n",
    "- 配列、文字列\n",
    "\n",
    "- 関数（サブルーチン）\n",
    "\n",
    "## レポート課題\n",
    "\n",
    "- レポート課題2: 循環小数\n",
    "\n",
    "- レポート課題3: 暗号解読に挑戦\n",
    "\n",
    "## 今日の内容\n",
    "\n",
    "1. 配列とその使い方\n",
    "\n",
    "1. 文字列の処理方法\n"
   ]
  },
  {
   "cell_type": "markdown",
   "metadata": {
    "id": "q45v_anhR4xa"
   },
   "source": [
    "# 配列（リスト）\n",
    "\n",
    "配列は要素（値）を一列に並べたもの\n",
    "\n",
    "$$a = [v_0, v_1, \\ldots, v_{n-1}]$$\n",
    "\n",
    "```python\n",
    "a = [2, 4, 6, 8, 10, 12]\n",
    "```\n",
    "\n",
    "## 要素の参照: `a[i]`\n",
    "\n",
    "- 添字（インデックスともいう）:\n",
    "\n",
    "    配列の最初の要素 ($v_0$) の添字（インデックス）は 0。1 ではなく 0 で始まることに注意して下さい。\n",
    "\n",
    "    配列の二番目の要素 ($v_1$) の添字は 1。2 でないことに注意して下さい。\n",
    "\n",
    "    $n$個の要素を持つ配列の最後の要素 ($v_{n-1}$) の添字は $(n-1)$。\n",
    "\n",
    "- 添字が動く範囲は: (0 .. 要素数 - 1)\n"
   ]
  },
  {
   "cell_type": "code",
   "execution_count": null,
   "metadata": {
    "id": "ZVstAJC4byp8"
   },
   "outputs": [],
   "source": [
    "a = [3, 1, 4, 1, 5, 9, 2]\n",
    "print(a)\n",
    "\n",
    "# 配列の大きさは len(配列) で取得できる\n",
    "n = len(a)\n",
    "print(n)\n",
    "print(len(a))\n",
    "\n",
    "# 配列の先頭の3要素と一番最後の要素を取得する。\n",
    "# 1行目の配列の定義とprint文の出力を見比べよう。\n",
    "print(a[0], a[1], a[2], a[n-1])"
   ]
  },
  {
   "cell_type": "markdown",
   "metadata": {
    "id": "vWga74_mUZPD"
   },
   "source": [
    "## 配列の使用例（スマイルくん）\n",
    "\n",
    "スマイルくんのプログラムははなはだ面倒でした。ちょっとした機能のプログラムがとても長くなりました。配列を用いれば、ずっと見通しのよいプログラムに変身します。\n",
    "\n",
    "（どうして一週間前に教えてくれなかったの） ← いいのいいの。アトムと戯れるのも大切でしょ？"
   ]
  },
  {
   "cell_type": "code",
   "execution_count": null,
   "metadata": {
    "id": "dk91hBzTT5KB"
   },
   "outputs": [],
   "source": [
    "# 動かないスマイルくん（再掲）\n",
    "\n",
    "from google.colab import output\n",
    "import time\n",
    "\n",
    "d1 =  1000000000000000000000000000\n",
    "d2 =  1000000000110000110000000000\n",
    "d3 =  1000000000110000110000000000\n",
    "d4 =  1000000000000000000000000000\n",
    "d5 =  1000001100000000000011000000\n",
    "d6 =  1000000110000000000110000000\n",
    "d7 =  1000000011000000001100000000\n",
    "d8 =  1000000000111111110000000000\n",
    "d9 =  1000000000000000000000000000\n",
    "d10 = 1000000000000000000000000000\n",
    "\n",
    "t = 0    # 経過秒数\n",
    "\n",
    "while t < 7:\n",
    "    output.clear()\n",
    "    print(d1)\n",
    "    print(d2)\n",
    "    print(d3)\n",
    "    print(d4)\n",
    "    print(d5)\n",
    "    print(d6)\n",
    "    print(d7)\n",
    "    print(d8)\n",
    "    print(d9)\n",
    "    print(d10)\n",
    "\n",
    "    time.sleep(1)                # 1秒休む\n",
    "    t = t + 1"
   ]
  },
  {
   "cell_type": "code",
   "execution_count": null,
   "metadata": {
    "id": "wK9rcD8yVLvB"
   },
   "outputs": [],
   "source": [
    "# 動かないスマイルくん（再掲）\n",
    "\n",
    "from google.colab import output\n",
    "import time\n",
    "\n",
    "d = [1000000000000000000000000000,\n",
    "     1000000000110000110000000000,\n",
    "     1000000000110000110000000000,\n",
    "     1000000000000000000000000000,\n",
    "     1000001100000000000011000000,\n",
    "     1000000110000000000110000000,\n",
    "     1000000011000000001100000000,\n",
    "     1000000000111111110000000000,\n",
    "     1000000000000000000000000000,\n",
    "     1000000000000000000000000000]\n",
    "\n",
    "t = 0    # 経過秒数\n",
    "\n",
    "while t < 7:\n",
    "    output.clear()\n",
    "    k = 0\n",
    "    while k < len(d):\n",
    "        print(d[k])\n",
    "        k = k + 1\n",
    "\n",
    "    time.sleep(1)                # 1秒休む\n",
    "    t = t + 1\n"
   ]
  },
  {
   "cell_type": "markdown",
   "metadata": {
    "id": "bra_588LWGW9"
   },
   "source": [
    "先週、学んだスマイルくんのプログラムには嫌な点がふたつありました。これらが原因でプログラムが複雑になっていました。\n",
    "\n",
    "- **変数**が多いこと\n",
    "- `print`が多いこと → `while`の繰り返しにまとめた\n",
    "\n",
    "上の新しいスマイルくんのプログラムでは前の週のプログラムの変数 (*d1*, *d2*, ..., *d10*) の内容をひとつの配列にまとめました。また、10行にわたって並んだ `print(...)` を書く代わりに配列の要素を走査するループのなかで、`print(該当する要素)` することで短縮しました。\n",
    "\n",
    "**先週のプログラムでの出力箇所**:\n",
    "```python\n",
    "    print(d1)\n",
    "    print(d2)\n",
    "    print(d3)\n",
    "    print(d4)\n",
    "    print(d5)\n",
    "    print(d6)\n",
    "    print(d7)\n",
    "    print(d8)\n",
    "    print(d9)\n",
    "    print(d10)\n",
    "```\n",
    "\n",
    "**今週のプログラムの該当箇所**:\n",
    "```python\n",
    "   k = 0\n",
    "   while k < len(d):\n",
    "        print(d[k])\n",
    "        k = k + 1\n",
    "```\n",
    "\n",
    "かなり簡潔に書けましたね。"
   ]
  },
  {
   "cell_type": "markdown",
   "metadata": {
    "id": "mMBjb0w7Xmru"
   },
   "source": [
    "## もうひとつの繰り返しの書き方: `for` 文\n",
    "\n",
    "これまで `while` 文にはずいぶんお世話になりました。Python は上の例のように、一定回数繰り返すことを `while` よりも簡潔に表現するための構文があります。\n",
    "\n",
    "まず以下は 0 から n-1 まで i を変化させてブロックを実行する書き方です。\n",
    "\n",
    "```python\n",
    "for i in range(n):\n",
    "    ブロック\n",
    "```\n",
    "\n",
    "- `range(n)` は 0, 1, ..., n-1 という値の範囲を表します。\n",
    "\n",
    "- `i` はこの値の範囲を走査する変数です。繰り返しごとに `i` の値は 0, 1, ..., n-1 と変化しながら、ブロックを実行します。`i` が変化するので、ブロックのなかに `i` が出現すればブロックの実行も繰り返しごとにすこしずつ変化します。\n",
    "\n",
    "- `while` 文はうっかりすると無限に停まらなくなることがありますが，`for` 文は与えられた範囲の数値を順次処理するので，停まらないということがあまりありません．\n",
    "\n",
    "---\n",
    "\n",
    "以下のもうすこし複雑な構文では、`i` は $m, m+1, ..., n-1$ という値の範囲を動きながらブロックを実行します。\n",
    "\n",
    "```python\n",
    "for i in range(m, n):\n",
    "    ブロック\n",
    "```"
   ]
  },
  {
   "cell_type": "markdown",
   "metadata": {
    "id": "1ukSIiUU1uL7"
   },
   "source": [
    "## `for` 文は同種多数のデータを扱うのに便利\n",
    "\n",
    "**例**: 配列の要素の総和を求める。\n",
    "\n",
    "※ 数学にも似た表現があります。 $$\\sum_{k=0}^5 a_k$$"
   ]
  },
  {
   "cell_type": "code",
   "execution_count": null,
   "metadata": {
    "id": "qiUg0QTeXa9l"
   },
   "outputs": [],
   "source": [
    "a = [3, 1, 4, 1, 5, 9, 2]\n",
    "n = len(a)\n",
    "print('長さ:', n)\n",
    "\n",
    "和 = 0\n",
    "for k in range(n):\n",
    "    和 = 和 + a[k]\n",
    "print('和:', 和)"
   ]
  },
  {
   "cell_type": "code",
   "execution_count": null,
   "metadata": {
    "id": "Vgdz7dAc2Os5"
   },
   "outputs": [],
   "source": [
    "a = [int(x) for x in input().split()]    # 整数配列データの入力（空白くぎり）\n",
    "n = len(a)\n",
    "print('長さ:', n, '配列:', a)\n",
    "\n",
    "和 = 0\n",
    "for k in range(n):\n",
    "    和 = 和 + a[k]\n",
    "print('和:', 和)"
   ]
  },
  {
   "cell_type": "markdown",
   "metadata": {
    "id": "-T45P15t3rRt"
   },
   "source": [
    "## 課題2-1: 最大値を求める\n",
    "\n",
    "以下のプログラムの `'ここを完成して下さい'` と書かれている箇所の下に適宜プログラムを補って、最大値を求めるプログラムを完成しなさい。\n",
    "\n",
    "まずは自分で考えてみよう。つぎにブレイクアウトで意見を交換しよう。"
   ]
  },
  {
   "cell_type": "code",
   "execution_count": null,
   "metadata": {
    "id": "40mePf9q3ZbN"
   },
   "outputs": [],
   "source": [
    "a = [int(x) for x in input().split()]\n",
    "n = len(a)\n",
    "print('長さ:', n, '配列:', a)\n",
    "\n",
    "最大値の候補 = -100000      # 最大値の候補の値。\n",
    "                          # 最初の値はマイナス無限大と言えそうなくらい十分に小さな数にしておく\n",
    "候補のインデックス = -1      # 最大値の候補のインデックス。最初はありえない値として -1 にしておく\n",
    "for k in range(n):\n",
    "    'ここを完成して下さい'\n",
    "print('最大値:', 最大値の候補)\n",
    "print('最大値のインデックス', 候補のインデックス)"
   ]
  },
  {
   "cell_type": "markdown",
   "metadata": {
    "id": "-iQDXuzz5bTb"
   },
   "source": [
    "# 文字列：文字が並んだもの（1文字の場合もある）\n",
    "\n",
    "**文字列とその長さ**\n",
    "~~~python\n",
    "s = 'Congraturations!'\n",
    "n = len(s)\n",
    "~~~\n",
    "\n",
    "**文字列の要素の参照**:\n",
    "- `s[0] => C`: 最初の文字\n",
    "- `s[1] => o`: 二番目の文字\n",
    "- `s[k]`: $k$番目の文字\n",
    "- `s[-1] => !`: 一番右の文字\n",
    "- `s[-3] => n`: 右から3番目の文字\n",
    "\n",
    "**部分文字列の参照**:\n",
    "- `s[3:] => graturations!`: インデックス3以後の文字からなる文字列\n",
    "- `s[3:5] => ng`: インデックスが3, 4 の文字からなる部分文字列\n",
    "- `s[2:-2] => ngraturation`: 左右端から2文字を除外した部分文字列\n",
    "- `s[:] == s[0:] => Congraturations!`\n",
    "\n",
    "**文字列の連結**\n",
    "\n",
    "- `s1 + s2 + s3`\n"
   ]
  },
  {
   "cell_type": "code",
   "execution_count": 1,
   "metadata": {
    "id": "MqTDFGWZ6WlI"
   },
   "outputs": [
    {
     "name": "stdout",
     "output_type": "stream",
     "text": [
      "21\n",
      "H a P ! g n\n",
      "s[4:] y Python hacking!\n",
      "s[:4] Happ\n",
      "s[:-3] Happy Python hacki\n",
      "s[4:8] y Py\n",
      "s[2:-2] ppy Python hackin\n",
      "s[:] Happy Python hacking!\n",
      "TokyoTech\n",
      "Tokyo Institute of Technology\n"
     ]
    }
   ],
   "source": [
    "s = 'Happy Python hacking!'\n",
    "print(len(s))\n",
    "print(s[0], s[1], s[6], s[-1], s[-2], s[-3])\n",
    "\n",
    "print('s[4:]', s[4:])\n",
    "print('s[:4]', s[:4])\n",
    "print('s[:-3]', s[:-3])\n",
    "print('s[4:8]', s[4:8])\n",
    "print('s[2:-2]', s[2:-2])\n",
    "print('s[:]', s[:])\n",
    "\n",
    "print('Tokyo' + 'Tech')\n",
    "print('Tokyo' + ' ' + 'Institute' + ' ' + 'of' + ' ' + 'Technology')"
   ]
  },
  {
   "cell_type": "markdown",
   "metadata": {
    "id": "sD7572K57Xvz"
   },
   "source": [
    "## 文字列の入力\n",
    "\n"
   ]
  },
  {
   "cell_type": "code",
   "execution_count": null,
   "metadata": {
    "id": "001p16kT6jWi"
   },
   "outputs": [],
   "source": [
    "s = input('文字列を入力しよう')\n",
    "n = len(s)\n",
    "for i in range(n):\n",
    "    print(s[i])"
   ]
  },
  {
   "cell_type": "markdown",
   "metadata": {
    "id": "IXPtq1YaqTTQ"
   },
   "source": [
    "## 配列や文字列の走査（もっと簡単な方法）\n",
    "\n",
    "文字列の要素の文字ごとに処理をする場合，前の例では `range` によるインデックスを用いた走査をしました．`for ... in ...:` 構文は，配列や文字列の要素ごとの処理もできるので，そちらを利用した方が簡単です．\n",
    "\n",
    "~~~python\n",
    "# 配列の各要素 x の処理\n",
    "for x in 配列:\n",
    "    ブロック\n",
    "\n",
    "# 文字列の各文字 c の処理\n",
    "for c in 文字列:\n",
    "    ブロック\n",
    "~~~"
   ]
  },
  {
   "cell_type": "code",
   "execution_count": null,
   "metadata": {
    "id": "RStwzq7E7jxd"
   },
   "outputs": [],
   "source": [
    "# 配列の走査の例\n",
    "\n",
    "和 = 0\n",
    "for x in [3, 1, 4, 1, 5, 9, 2, 6]:\n",
    "    和 = 和 + x\n",
    "print('3.1415926 に表れる数の和:', 和)\n",
    "print()\n",
    "\n",
    "# スマイルくんの出力\n",
    "for line in d:\n",
    "    print(line)\n",
    "print()\n",
    "\n",
    "# 文字列の走査の例\n",
    "\n",
    "for c in input('文字列を入力しよう: '):\n",
    "    print(c)"
   ]
  },
  {
   "cell_type": "markdown",
   "metadata": {
    "id": "A0njMI648LP1"
   },
   "source": [
    "## テーマ1: 数で文字を表現すること（再掲）\n",
    "\n",
    "**ASCIIコード表**は，英数字を表現するために用いられている英数字と数の対応表です．\n",
    "\n",
    "~~~\n",
    "|  0 nul|  1 soh|  2 stx|  3 etx|  4 eot|  5 enq|  6 ack|  7 bel|\n",
    "|  8 bs |  9 ht | 10 nl | 11 vt | 12 np | 13 cr | 14 so | 15 si |\n",
    "| 16 dle| 17 dc1| 18 dc2| 19 dc3| 20 dc4| 21 nak| 22 syn| 23 etb|\n",
    "| 24 can| 25 em | 26 sub| 27 esc| 28 fs | 29 gs | 30 rs | 31 us |\n",
    "| 32 sp | 33  ! | 34  \" | 35  # | 36  $ | 37  % | 38  & | 39  ' |\n",
    "| 40  ( | 41  ) | 42  * | 43  + | 44  , | 45  - | 46  . | 47  / |\n",
    "| 48  0 | 49  1 | 50  2 | 51  3 | 52  4 | 53  5 | 54  6 | 55  7 |\n",
    "| 56  8 | 57  9 | 58  : | 59  ; | 60  < | 61  = | 62  > | 63  ? |\n",
    "| 64  @ | 65  A | 66  B | 67  C | 68  D | 69  E | 70  F | 71  G |\n",
    "| 72  H | 73  I | 74  J | 75  K | 76  L | 77  M | 78  N | 79  O |\n",
    "| 80  P | 81  Q | 82  R | 83  S | 84  T | 85  U | 86  V | 87  W |\n",
    "| 88  X | 89  Y | 90  Z | 91  [ | 92  \\ | 93  ] | 94  ^ | 95  _ |\n",
    "| 96  ` | 97  a | 98  b | 99  c |100  d |101  e |102  f |103  g |\n",
    "|104  h |105  i |106  j |107  k |108  l |109  m |110  n |111  o |\n",
    "|112  p |113  q |114  r |115  s |116  t |117  u |118  v |119  w |\n",
    "|120  x |121  y |122  z |123  { |124  | |125  } |126  ~ |127 del|\n",
    "~~~\n",
    "\n",
    "- `ord(c)`: 文字 $c$ の ASCII コードを与える\n",
    "\n",
    "- `chr(n)`: $n$ に対応する文字を与える"
   ]
  },
  {
   "cell_type": "code",
   "execution_count": null,
   "metadata": {
    "id": "4GHclwmU8L8K"
   },
   "outputs": [],
   "source": [
    "print('ord(\"a\")', ord('a'))\n",
    "\n",
    "s = 'Cabcz'\n",
    "print('s[1]', s[1])\n",
    "print('ord(s[1])', ord(s[1]))\n",
    "print('ord(s[2])', ord(s[2]))\n",
    "\n",
    "print('chr(97)', chr(97))\n",
    "print('chr(ord(a))', chr(ord('a')))\n",
    "\n",
    "print('aの次の次の文字', chr(ord('a') + 2))"
   ]
  },
  {
   "cell_type": "markdown",
   "metadata": {
    "id": "4ocBIfntAYAI"
   },
   "source": [
    "# では日本語の文字列はどうやって表現するの？\n",
    "\n",
    "**日本語を表現するためのさまざまな文字コード**:\n",
    "\n",
    "- JIS (ISO-2022-JP)\n",
    "\n",
    "    - 漢字を2バイトで表す\n",
    "\n",
    "    - 漢字コードと ASCII をエスケープシーケンスと呼ばれる特殊な文字列で切り替える\n",
    "\n",
    "- Shift-JIS\n",
    "\n",
    "- EUC\n",
    "\n",
    "**世界中の文字列を表現可能な文字コード**\n",
    "\n",
    "- Unicode: Python 3 は文字列の内部表現としてUnicodeを採用しています．\n",
    "\n",
    "    - UTF-8\n",
    "        - 1文字を1バイト〜4バイトのデータで表現します．\n",
    "        - 0〜127は ASCIIコードと一致\n",
    "        - Pythonのプログラムは UTF-8 を用いることを基本としています．Python のプログラムをテキストエディタで書くときに，そのファイルの文字コードが UTF-8 であることを確認しましょう．逆に，JIS, Shift-JIS, EUC でないことに注意しましょう．\n",
    "\n",
    "    - UTF-16: 1文字を2バイトあるいは4バイトで表します．\n",
    "\n",
    "    - UTF-32\n",
    "\n",
    "テキストエディタを使うときは，"
   ]
  },
  {
   "cell_type": "code",
   "execution_count": null,
   "metadata": {
    "id": "4dqbsBgDnfi1"
   },
   "outputs": [],
   "source": [
    "# 自分の名前の Unicode を調べてみよう\n",
    "\n",
    "for c in '脇田　建':\n",
    "    print(c, ord(c))"
   ]
  },
  {
   "cell_type": "code",
   "execution_count": null,
   "metadata": {
    "id": "aXBg20umnpvY"
   },
   "outputs": [],
   "source": [
    "# Unicode の「田」の周辺の文字を出力すると「田」を含む漢字が多いことがわかる\n",
    "\n",
    "田 = ord('田')\n",
    "for n in range(田, 田 + 100):\n",
    "    print(n, chr(n), end=' ')\n",
    "    if (n - 田 + 1) % 5 == 0: print()"
   ]
  },
  {
   "cell_type": "markdown",
   "metadata": {
    "id": "pdFeVQIxayQj"
   },
   "source": [
    ":::{admonition} **※** 覚えなくてもいい Python の機能: **`print(..., end=...)`**\n",
    ":class: tip, dropdown\n",
    "`print(...)` にはずいぶんお世話になっていますね．上の例ではこの機能の `end=...` オプションを利用して表を出力しています．`end=...` オプションを利用しないと，`print(...)` は，データを出力したあとで改行します．上の例のように出力する要素が100もある場合には，要素単位で改行すると，出力が非常に長くなります．上の表組みは，`print` の `end=' '` オプションを利用することで，出力するごとに一文字の空白を出力し，改行を抑制しています．そして，6行目の `print()` により，5つの要素ごとに改行しています．\n",
    ":::"
   ]
  },
  {
   "cell_type": "markdown",
   "metadata": {
    "id": "eV7DqSCPZ82D"
   },
   "source": [
    "## 練習問題（練習問題は提出を求めていません）\n",
    "\n",
    "*e* を探すプログラムを作ろう！\n",
    "\n",
    "変数 *sample* に含まれる `e` の数 (`count_e`) とそうでない文字の数 (`count_others`) を勘定すること．"
   ]
  },
  {
   "cell_type": "code",
   "execution_count": null,
   "metadata": {
    "id": "yscqpn7l_uu-"
   },
   "outputs": [],
   "source": [
    "# 'e' を勘定しよう！\n",
    "\n",
    "paragraph = \"\"\"Today, by radio, and also on giant hoardings, a rabbi, an admiral\n",
    "notorious for his links to Masonry, a trio of cardinals, a trio, too, of\n",
    "insignificant politicians (bought and paid for by a rich and corrupt Anglo-\n",
    "Canadian banking corporation), inform us all of how our country now risks dying\n",
    "of starvation.  A rumour, that's my initial thought as I switch off my radio, a\n",
    "rumour or possibly a hoax.  Propaganda, I murmur anxiously -- as though, just by\n",
    "saying so, I might allay my doubts -- typical politicians' propaganda.  But\n",
    "public opinion gradually absorbs it as a fact.  Individuals start strutting\n",
    "around with stout clubs.  \"Food, glorious food!\" is a common cry (occasionally\n",
    "sung to Bart's music), with ordinary hard-working fold harassing officials, both\n",
    "local and national, and cursing capitalists and captains of industry.  Cops\n",
    "shrink from going out on night shift.  In Macon a mob storms a municipal\n",
    "building.  In Rocadamour ruffians rob a hangar full of foodstuffs, pillaging\n",
    "tons of tuna fish, milk and cocoa, as also a vast quantity of corn -- all of it,\n",
    "alas, totally unfit for human consumption.  Without fuss or ado, and naturally\n",
    "without any sort of trial, an indignant crowd hangs 26 solicitors on a hastily\n",
    "built scaffold in front of Nancy's law courts (this Nancy is a town, not a woman)\n",
    "and ransacks a local journal, a disgusting right-wing rag that is siding against\n",
    "it.  Up and down this land of ours looting has brought docks, shops and farms to\n",
    "a virtual standstill.\"\"\"\n",
    "\n",
    "count_e = 0\n",
    "count_others = 0\n",
    "for c in paragraph:            # 文字列 s の要素となる各文字 c について:\n",
    "    'ここを完成すること'\n",
    "print('e の個数:', count_e, 'e でない文字の個数: ', count_others)"
   ]
  },
  {
   "cell_type": "markdown",
   "metadata": {
    "id": "WSfJAYm5Ki_2"
   },
   "source": [
    ":::{admonition} この文章はなに？\n",
    ":class: tip, dropdown\n",
    "原作の英語訳: Gilbert Adair, \"A Void\" の前文より，\n",
    "\n",
    "![](https://i.gyazo.com/e53e9706fa3c56882ef0cb77d84ce61a.png)\n",
    ":::"
   ]
  },
  {
   "cell_type": "markdown",
   "metadata": {
    "id": "qg0E3VgHrI8u"
   },
   "source": [
    "## 課題2-2: 文字フィルター\n",
    "\n",
    "変数 *例文** に含まれる平仮名と片仮名の「《い》段」にあたる文字（`いきしちにひみりイキシチニヒミリ`）の数を勘定すること．\n",
    "\n",
    "以下のプログラムの `'ここを完成して下さい'` と書かれている箇所の下に適宜プログラムを補って、最大値を求めるプログラムを完成しなさい。"
   ]
  },
  {
   "cell_type": "code",
   "execution_count": null,
   "metadata": {
    "id": "54as8G9BrMXy"
   },
   "outputs": [],
   "source": [
    "# 《い》段の文字を勘定しよう！\n",
    "\n",
    "例文 = '''サンカタのコウソウ▼、ユダヤソウ、メーソンのグンカン、アングロサクソン・トラストのアヤツる\n",
    "ムノウなコウカンなどが、かわるがわるホウソウやコウコクをツカって、ウえのオソれがあるとウッタえた。\n",
    "ダレもがデマだとオモった。プロパガンダだともウワサされた。だが、ホントウのことがわかってくると、ダレ\n",
    "もがケンゴなコンボウをカマえた。「パンをよこせ」とサケんで、コヨウガワ、フユウソウ、カンケンをバト\n",
    "ウする。ホウボウでサクがロウされ、カンサがめぐらされた。カンケンですらヤカンのパトロールをサけるの\n",
    "だった。マコンではヤクバがオソわれ、ロカマドゥールではソウコがオウダツされた。そこへオサめてあったマ\n",
    "グロ、バター、ココアのハコ、コクモツはどれもタべられたものではなかったのだが。メスのコウエンでは、\n",
    "ヨンダースものケンサツカンがダントウされ、「ル・モンド」のハッコウモトがホウカされた。カンケンガワか\n",
    "らのホウドウはユルさず、とのドウカツだった。ほうぼうで、コウワンソウコ、クラ、テンポがネラわれた。'''\n",
    "\n",
    "count_い段 = 0\n",
    "count_others = 0\n",
    "for c in 例文:            # 例文に出てくる各文字 c について:\n",
    "    'ここを完成して下さい'\n",
    "print('《い》段の個数:', count_い段, '《い》段でない文字の個数:', count_others)"
   ]
  },
  {
   "cell_type": "markdown",
   "metadata": {
    "id": "cZ0Fm5-9kmRm"
   },
   "source": [
    ":::{admonition} **課題の背景**: 塩塚秀一郎「煙滅」\n",
    ":class: tip, dropdown\n",
    "\n",
    "> 20世紀フランスで産声を上げた、奇妙キテレツな文学集団がいた……。そのグループの名は《ウリポ》。メンバーはジョルジュ・ペレックやレーモン・クノー、イタロ・カルヴィーノなどなど。１つのエピソードを99通りの文体で書いたり、「Ｅ」をまったく使わずに小説を書いたり。これらの言語遊戯によって、彼らは文学のどんな可能性を引き出したのか？\n",
    ">\n",
    ">数々の海外文学を読破し、かつてない切り口によって書評の異種格闘技戦を繰りひろげている豊崎由美氏と、翻訳不可能といわれたジョルジュ・ぺレックの『煙滅』を《い》段抜きで訳すという翻訳のアクロバットを見せた塩塚秀一郎氏。お二人に、《ウリポ》とはなにか、またペレック作品をはじめとする、さまざまな文学表現の魅力について、たっぷりと語っていただきます。\n",
    "\n",
    "**※** 参考：上のプログラムの例文は塩塚秀一郎による日本語訳「煙滅」の前文を仮名になおしたものです．以下が原文です．\n",
    "\n",
    "> 三方の高僧、ユダヤ僧、メーソンの軍官、アングロサクソン・トラストの操る無能な高官などが、かわるがわる放送や公告を使って、飢えのおそれがあると訴えた。誰もがデマだと思った。プロパガンダだとも噂された。だが、本当のことがわかってくると、誰もが堅固な棍棒を構えた。「パンをよこせ」と叫んで、雇用側、富裕層、官憲を罵倒する。ほうぼうで策が弄され、奸詐がめぐらされた。官憲ですら夜間のパトロールを避けるのだった。マコンでは役場が襲われ、ロカマドゥールでは倉庫が横奪された。そこへ収めてあったマグロ、バター、ココアの箱、穀物はどれも食べられたものではなかったのだが。メスの公園では、四ダースもの検察官が断頭され、「ル・モンド」の発行元が放火された。官権側からの報道は許さず、との恫喝だった。ほうぼうで、港湾倉庫、倉、店舗が狙われた。\n",
    ":::\n",
    "\n",
    "（宿題の Google Form へのリンクを学生さんに共有すること）"
   ]
  },
  {
   "cell_type": "markdown",
   "metadata": {
    "id": "_-ApcxkYj_ps"
   },
   "source": [
    "# レポート課題2 （予告）\n",
    "\n",
    "課題：循環小数の循環を停めよ！\n",
    "\n",
    "配列は同じようなデータを統一的に処理するには便利な道具です．それ以外にも賢い使い方があります．その一例を考えてみましょう．\n",
    "\n",
    "次回，説明するけれど，以下のプログラムの内容を理解しておいて下さい．"
   ]
  },
  {
   "cell_type": "code",
   "execution_count": null,
   "metadata": {
    "id": "ZEFYMdntkTzZ"
   },
   "outputs": [],
   "source": [
    "import time\n",
    "\n",
    "d = int(input('分母 d を下さい: '))\n",
    "print('1 /', d, 'を求めます')\n",
    "stop = False\n",
    "l = 0  # 小数点以下の桁数\n",
    "x = 1\n",
    "while not stop:\n",
    "    x = x * 10\n",
    "    q = x // d  # 商\n",
    "    l = l + 1\n",
    "    print(l, ':', q)\n",
    "    time.sleep(1)\n",
    "    x = x % d   # 余り\n",
    "    if x == 0:\n",
    "        stop = True"
   ]
  }
 ],
 "metadata": {
  "colab": {
   "collapsed_sections": [],
   "name": "day3.ipynb",
   "provenance": []
  },
  "kernelspec": {
   "display_name": "Python 3 (ipykernel)",
   "language": "python",
   "name": "python3"
  },
  "language_info": {
   "codemirror_mode": {
    "name": "ipython",
    "version": 3
   },
   "file_extension": ".py",
   "mimetype": "text/x-python",
   "name": "python",
   "nbconvert_exporter": "python",
   "pygments_lexer": "ipython3",
   "version": "3.9.7"
  },
  "toc-autonumbering": false
 },
 "nbformat": 4,
 "nbformat_minor": 4
}
