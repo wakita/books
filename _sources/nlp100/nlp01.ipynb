{
 "cells": [
  {
   "cell_type": "markdown",
   "metadata": {},
   "source": [
    "# 第1章: [準備運動](https://nlp100.github.io/ja/ch01.html)\n",
    "\n",
    "[脇田の回答例](https://colab.research.google.com/drive/13k8_IKoSgyBWROdt0lyR8SB3dJGdFxtZ?usp=sharing)"
   ]
  },
  {
   "cell_type": "markdown",
   "metadata": {},
   "source": [
    "## 0. 文字列の逆順\n",
    "\n",
    "[リストについてのスライス構文](http://www.turbare.net/transl/scipy-lecture-notes/intro/language/basic_types.html#lists)の練習"
   ]
  },
  {
   "cell_type": "markdown",
   "metadata": {},
   "source": [
    "## 1. 「パタトクカシーー」\n",
    "\n",
    "[リストについてのスライス構文](http://www.turbare.net/transl/scipy-lecture-notes/intro/language/basic_types.html#lists)の練習"
   ]
  },
  {
   "cell_type": "markdown",
   "metadata": {},
   "source": [
    "## 2. 「パトカー」 + 「タクシー」 = 「パタトカシーー」\n",
    "\n",
    "- 文字列は文字の列として扱えるので、[リストの内包表記](http://www.turbare.net/transl/scipy-lecture-notes/intro/language/control_flow.html#list-comprehensions)が利用できる。\n",
    "\n",
    "- [zip 関数](https://docs.python.org/3/library/functions.html#zip)で二つの文字列を束ね、"
   ]
  },
  {
   "cell_type": "markdown",
   "metadata": {},
   "source": [
    "## 3. 円周率\n",
    "\n",
    "- [文字列の `split` メソッド](https://docs.python.org/3/library/stdtypes.html?highlight=split#str.split)を使って文字列を分割する。例：`文字列.split('区切り')`"
   ]
  },
  {
   "cell_type": "markdown",
   "metadata": {},
   "source": [
    "## 4. 元素記号\n",
    "\n",
    "リストの走査には普通は内包記法を用いるが、インデックスが使いたいこともある。この場合は [`enumerate`関数](https://docs.python.org/3/library/functions.html?highlight=enumerate#enumerate) を併用して `[... for i, x in enumerate(data)]` のように使うとよい。"
   ]
  },
  {
   "cell_type": "markdown",
   "metadata": {},
   "source": [
    "## 5. n-gram\n",
    "\n",
    "配列に対するのスライス記法の練習"
   ]
  },
  {
   "cell_type": "markdown",
   "metadata": {},
   "source": [
    "## 6. 集合\n",
    "\n",
    "- [集合型](https://docs.python.org/3/library/stdtypes.html?highlight=set#set-types-set-frozenset)の練習。集合を作るときは `set(配列)` のようにする。`set(要素1, 要素2, ...)` ではない。\n",
    "\n",
    "- [集合型](https://docs.python.org/3/library/stdtypes.html?highlight=set#set-types-set-frozenset)に各種演算子も解説されている。"
   ]
  },
  {
   "cell_type": "markdown",
   "metadata": {},
   "source": [
    "## 7. テンプレートによる文生成\n",
    "\n",
    "`x + '時の' + y + 'は' + z` などと書くと読みにくいので、[フォーマット済み文字列リテラル](https://docs.python.org/ja/3/reference/lexical_analysis.html#f-strings)を用いること。"
   ]
  },
  {
   "cell_type": "markdown",
   "metadata": {},
   "source": [
    "## 8. 暗号文\n",
    "\n",
    "- [文字列関連のメソッド](https://docs.python.org/ja/3/library/stdtypes.html#string-methods)\n",
    "\n",
    "- [`ord`関数](https://docs.python.org/ja/3/library/functions.html?highlight=chr#ord)\n",
    "\n",
    "- [`chr`関数](https://docs.python.org/ja/3/library/functions.html?highlight=chr#chr)"
   ]
  },
  {
   "cell_type": "markdown",
   "metadata": {},
   "source": [
    "## 9. Typoglycemia\n",
    "\n",
    "- [`len`関数](https://docs.python.org/ja/3/library/functions.html?highlight=len#len)\n",
    "\n",
    "- [`randomモジュール`](https://docs.python.org/ja/3/library/random.html?highlight=random#module-random)"
   ]
  }
 ],
 "metadata": {
  "colab": {
   "collapsed_sections": [],
   "name": "day0.ipynb",
   "provenance": []
  },
  "kernelspec": {
   "display_name": "Python 3 (ipykernel)",
   "language": "python",
   "name": "python3"
  },
  "language_info": {
   "codemirror_mode": {
    "name": "ipython",
    "version": 3
   },
   "file_extension": ".py",
   "mimetype": "text/x-python",
   "name": "python",
   "nbconvert_exporter": "python",
   "pygments_lexer": "ipython3",
   "version": "3.9.10"
  }
 },
 "nbformat": 4,
 "nbformat_minor": 4
}
