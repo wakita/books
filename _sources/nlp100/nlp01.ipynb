{
 "cells": [
  {
   "cell_type": "markdown",
   "id": "c54081a2-66b8-458f-aabc-e9e611faa843",
   "metadata": {},
   "source": [
    "# 第2章: [UNIXコマンド](https://nlp100.github.io/ja/ch02.html)\n",
    "\n",
    "[脇田の回答例](https://colab.research.google.com/drive/1_Mlcisax9vVjFEAay6Kg-J0C-v_u757x?usp=sharing)"
   ]
  },
  {
   "cell_type": "code",
   "execution_count": 26,
   "id": "8c0c632f-1ca4-4966-a04f-256bbd08eb6f",
   "metadata": {},
   "outputs": [],
   "source": [
    "import os, os.path\n",
    "\n",
    "if not os.path.exists('popular-names.txt'):\n",
    "    os.system('wget https://nlp100.github.io/data/popular-names.txt')"
   ]
  },
  {
   "cell_type": "markdown",
   "id": "b856973e-c9ea-4fd4-bce9-db439d5dd3c9",
   "metadata": {},
   "source": [
    "## 00. 行数のカウント\n",
    "\n",
    "テキストファイルを読み込み行の配列を作る練習。\n",
    "\n",
    "- テキストファイルを読み込むときは\n",
    "\n",
    "    ~~~\n",
    "    with open('ファイル名.txt') as f:\n",
    "        ファイルハンドル f を使って、読み込む。\n",
    "        with open(...) を使うと、with を抜けるときに自動的にファイルを close してくれるので便利\n",
    "    ~~~\n",
    "\n",
    "- テキストファイルを読み込み、行ごとの配列を作るとには [`f.readlines()` メソッド](https://docs.python.org/3/library/io.html?highlight=readlines#io.IOBase.readlines)を使う。\n",
    "\n",
    "- UNIX コマンドで同等のことは `!wc -l popular-names.txt` で確認できる。"
   ]
  },
  {
   "cell_type": "markdown",
   "id": "df5cebcb-1b81-43bf-82d1-e8f355234aad",
   "metadata": {},
   "source": [
    "## 01. タブをスペースに置換\n",
    "\n",
    "- 文字列の置換には [`str.replace(...)`メソッド](https://docs.python.org/3/library/stdtypes.html?highlight=replace#str.replace)が使える。\n",
    "\n",
    "- UNIX コマンドとの対比で確認するためには以下のいずれかを試みるとよい。\n",
    "\n",
    "    - `tr \"\\t\" \" \" popular-names.txt`\n",
    "\n",
    "    - `!sed -e 's/\\t/ /g' popular-names.txt`"
   ]
  },
  {
   "cell_type": "code",
   "execution_count": 23,
   "id": "a932b072-a563-42f2-98bc-72b522f5b2b7",
   "metadata": {},
   "outputs": [
    {
     "name": "stdout",
     "output_type": "stream",
     "text": [
      "元の形式\n",
      "Mary\tF\t7065\t1880\n",
      "Anna\tF\t2604\t1880\n",
      "Emma\tF\t2003\t1880\n",
      "Elizabeth\tF\t1939\t1880\n",
      "Minnie\tF\t1746\t1880\n",
      "Margaret\tF\t1578\t1880\n",
      "Ida\tF\t1472\t1880\n",
      "Alice\tF\t1414\t1880\n",
      "Bertha\tF\t1320\t1880\n",
      "Sarah\tF\t1288\t1880\n",
      "\n",
      "trで処理した場合\n",
      "Mary F 7065 1880\n",
      "Anna F 2604 1880\n",
      "Emma F 2003 1880\n",
      "Elizabeth F 1939 1880\n",
      "Minnie F 1746 1880\n",
      "Margaret F 1578 1880\n",
      "Ida F 1472 1880\n",
      "Alice F 1414 1880\n",
      "Bertha F 1320 1880\n",
      "Sarah F 1288 1880\n",
      "\n",
      "sedで処理した場合\n",
      "Mary F 7065 1880\n",
      "Anna F 2604 1880\n",
      "Emma F 2003 1880\n",
      "Elizabeth F 1939 1880\n",
      "Minnie F 1746 1880\n",
      "Margaret F 1578 1880\n",
      "Ida F 1472 1880\n",
      "Alice F 1414 1880\n",
      "Bertha F 1320 1880\n",
      "Sarah F 1288 1880\n",
      "\n",
      "expandで処理した場合\n",
      "Mary F 7065 1880\n",
      "Anna F 2604 1880\n",
      "Emma F 2003 1880\n",
      "Elizabeth F 1939 1880\n",
      "Minnie F 1746 1880\n",
      "Margaret F 1578 1880\n",
      "Ida F 1472 1880\n",
      "Alice F 1414 1880\n",
      "Bertha F 1320 1880\n",
      "Sarah F 1288 1880\n"
     ]
    }
   ],
   "source": [
    "# UNIX での確認方法の例\n",
    "\n",
    "!echo \"元の形式\"\n",
    "!head popular-names.txt\n",
    "\n",
    "!echo \"\\ntrで処理した場合\"\n",
    "!head popular-names.txt | tr \"\\t\" \" \"\n",
    "\n",
    "!echo \"\\nsedで処理した場合\"\n",
    "!head popular-names.txt | sed -e 's/\\t/ /g'\n",
    "\n",
    "!echo \"\\nexpandで処理した場合\"\n",
    "!head popular-names.txt | expand -t 1"
   ]
  },
  {
   "cell_type": "markdown",
   "id": "0487db11-66ad-42bd-ad32-a5ebf36e2956",
   "metadata": {},
   "source": [
    "## 02. 1列目をcol1.txtに，2列目をcol2.txtに保存\n",
    "\n",
    "`col1.txt` には\n",
    "\n",
    "~~~\n",
    "Mary\n",
    "Anna\n",
    "Emma\n",
    "...\n",
    "~~~\n",
    "\n",
    "`col2.txt` には\n",
    "\n",
    "~~~\n",
    "F\n",
    "F\n",
    "F\n",
    "~~~\n",
    "\n",
    "と出力して欲しいということ。\n",
    "\n",
    "- テキストファイルへの書き込みには `with open(ファイル名, 'w') as w:` 構文を用いる。複数のファイルに書き込みたい場合でもひとつの `with` 文で処理できる。\n",
    "\n",
    "    ~~~\n",
    "    with open('readme.txt') as r, open('writeme.txt', 'w') as w:\n",
    "        r から読み込み、w に書き込む処理を記述する。\n",
    "    ~~~\n",
    "    \n",
    "- `w.write(文字列)` により、出力ファイルハンドル `w` に文字列を出力できる。この関数は `print` 関数と異なり勝手に改行を挿入することはない。"
   ]
  },
  {
   "cell_type": "code",
   "execution_count": 24,
   "id": "b86dfd62-4fc9-4051-a9d8-38c9b7c3ad09",
   "metadata": {},
   "outputs": [
    {
     "name": "stdout",
     "output_type": "stream",
     "text": [
      "第１列の抽出\n",
      "Mary\n",
      "Anna\n",
      "Emma\n",
      "Elizabeth\n",
      "Minnie\n",
      "Margaret\n",
      "Ida\n",
      "Alice\n",
      "Bertha\n",
      "Sarah\n",
      "\n",
      "第１列の抽出\n",
      "F\n",
      "F\n",
      "F\n",
      "F\n",
      "F\n",
      "F\n",
      "F\n",
      "F\n",
      "F\n",
      "F\n"
     ]
    }
   ],
   "source": [
    "# UNIX での確認の方法の例\n",
    "\n",
    "!echo \"第１列の抽出\"\n",
    "!head popular-names.txt | cut -f 1\n",
    "\n",
    "!echo \"\\n第１列の抽出\"\n",
    "!head popular-names.txt | cut -f 2"
   ]
  },
  {
   "cell_type": "markdown",
   "id": "348de1d2-1b3a-4344-b9c6-f5d20bff4bf1",
   "metadata": {},
   "source": [
    "## 03. col1.txtとcol2.txtをマージ\n",
    "\n",
    "UNIX コマンドを用いた確認には以下を実行する。\n",
    "~~~\n",
    "!paste col1a.txt col2a.txt > out3b.txt\n",
    "~~~"
   ]
  },
  {
   "cell_type": "markdown",
   "id": "bd68cb35-0713-44eb-a7de-ad7bbf758533",
   "metadata": {},
   "source": [
    "## 04. 先頭からN行を出力\n",
    "\n",
    "ノートブックのユーザに数値の入力を促すには [`input(...)` 関数](https://docs.python.org/3/library/functions.html?highlight=input#input)を用いる。この関数は文字列を返すので、数値データが欲しい場合は、適宜、型変換をする。以下では `int(...)`関数 を用いる。\n",
    "\n",
    "~~~\n",
    "N = int(input('先頭から何行？ '))\n",
    "~~~\n",
    "\n",
    "UNIX コマンドを用いた確認には以下を実行する。\n",
    "\n",
    "~~~\n",
    "!head -n 5 popular-names.txt\n",
    "~~~"
   ]
  },
  {
   "cell_type": "markdown",
   "id": "97ff376d-91b3-4c2b-a985-38e86f29c553",
   "metadata": {},
   "source": [
    "## 05. 末尾のN行を出力\n",
    "\n",
    "UNIX コマンドを用いた確認には以下を実行する。\n",
    "\n",
    "~~~\n",
    "!tail -n 5 popular-names.txt\n",
    "~~~"
   ]
  },
  {
   "cell_type": "markdown",
   "id": "8a3faee8-2ca6-45a1-8aee-3cb80f681bdc",
   "metadata": {},
   "source": [
    "## 06. ファイルをN分割する\n",
    "\n",
    "UNIX コマンドを用いてファイルを3分割するには以下を実行する。\n",
    "\n",
    "~~~\n",
    "!split -a 1 -l 928 popular-names.txt popular-names-\n",
    "~~~\n",
    "\n",
    "このコマンドの実行により `popular-names-a`, `popular-names-b`, `popular-names-c` が生成される。拡張子の `.txt` をつけたかったが、その方法は提供されていないようだ。\n",
    "\n",
    "`split` コマンドの各オプションの意味は詳しくは `man split` で調べるように\n",
    "\n",
    "- `-l 928` は 928 行ごとに分割することを指示している。ここで 928 は (popular-names.txt の行数 + 3) / 3 から得た\n",
    "\n",
    "- `-a 1` は生成するファイルの名前の接尾辞の文字数が1文字でよいことを指示している。\n",
    "\n",
    "- 末尾の `popular-names-` は生成されるファイルの前置辞を指定している。"
   ]
  },
  {
   "cell_type": "code",
   "execution_count": 53,
   "id": "3a8308a5-91cd-4378-8329-fa04d3ba9306",
   "metadata": {},
   "outputs": [
    {
     "name": "stdout",
     "output_type": "stream",
     "text": [
      "    2780 popular-names.txt\n",
      "     928 popular-names-a\n",
      "     928 popular-names-b\n",
      "     924 popular-names-c\n",
      "    2780 total\n"
     ]
    }
   ],
   "source": [
    "!wc -l popular-names.txt\n",
    "!split -a 1 -l 928 popular-names.txt popular-names-\n",
    "!wc -l popular-names-*"
   ]
  },
  {
   "cell_type": "markdown",
   "id": "ae1e7d2c-1f61-466b-bde9-dd533ec2263b",
   "metadata": {},
   "source": [
    "## 07. １列目の文字列の異なり\n"
   ]
  },
  {
   "cell_type": "code",
   "execution_count": 79,
   "id": "59bbb5b7-3146-467c-9c92-8d6121f16c78",
   "metadata": {},
   "outputs": [
    {
     "name": "stdout",
     "output_type": "stream",
     "text": [
      "cut -f 1: 第１列を取り出す\n",
      "Mary\n",
      "Anna\n",
      "Emma\n",
      "Elizabeth\n",
      "Minnie\n",
      "\n",
      "sort: （辞書式順に）整列する\n",
      "Abigail\n",
      "Abigail\n",
      "Abigail\n",
      "Abigail\n",
      "Abigail\n",
      "\n",
      "uniq -c: 連続して一致する行をひとまとめにする\n",
      "Abigail\n",
      "Aiden\n",
      "Alexander\n",
      "Alexis\n",
      "Alice\n",
      "Amanda\n",
      "Amelia\n",
      "Amy\n",
      "Andrew\n",
      "Angela\n",
      "Anna\n",
      "Annie\n",
      "Anthony\n",
      "Ashley\n",
      "Austin\n",
      "Ava\n",
      "Barbara\n",
      "Benjamin\n",
      "Bertha\n",
      "Bessie\n"
     ]
    }
   ],
   "source": [
    "!echo \"cut -f 1: 第１列を取り出す\"\n",
    "!cut -f 1 popular-names.txt | head -n 5\n",
    "\n",
    "!echo \"\\nsort: （辞書式順に）整列する\"\n",
    "!cut -f 1 popular-names.txt | sort | head -n 5\n",
    "\n",
    "!echo \"\\nuniq -c: 連続して一致する行をひとまとめにする\"\n",
    "!cut -f 1 popular-names.txt | sort | uniq | head -n 20"
   ]
  },
  {
   "cell_type": "markdown",
   "id": "4df55cc6-13d8-4bfd-ad07-d435fb6d782e",
   "metadata": {},
   "source": [
    "## 08. 各行を3コラム目の数値の降順にソート\n",
    "\n",
    "\n",
    "with open('popular-names.txt') as f, open('out8a.txt', 'w') as w:\n",
    "    lines = f.readlines()\n",
    "    w.write(''.join(sorted(lines, key=lambda line: int(line.split('\\t')[3]))))\n",
    "\n",
    "以下の出力が整列していることを確認すれば ok\n",
    "!cut -f 4 out8a.txt | uniq"
   ]
  },
  {
   "cell_type": "code",
   "execution_count": 80,
   "id": "d8926f34-dba0-4de1-b7c4-da4b488cd833",
   "metadata": {},
   "outputs": [
    {
     "name": "stdout",
     "output_type": "stream",
     "text": [
      "Charlotte\tF\t10115\t2014\n",
      "Harper\tF\t10295\t2015\n",
      "Madison\tF\t10320\t2014\n",
      "Evelyn\tF\t10376\t2018\n",
      "Helen\tF\t10479\t1910\n",
      "Harper\tF\t10582\t2018\n",
      "William\tM\t10593\t1911\n",
      "Madison\tF\t10596\t2013\n",
      "Abigail\tF\t10607\t2017\n",
      "Mia\tF\t10639\t2010\n",
      "sort: Broken pipe\n"
     ]
    }
   ],
   "source": [
    "!sort -k 3 popular-names.txt | head"
   ]
  },
  {
   "cell_type": "markdown",
   "id": "c56da35b-0eac-4efb-931e-f1668b33610b",
   "metadata": {},
   "source": [
    "## 09. 各行の1コラム目の文字列の出現頻度を求め，出現頻度の高い順に並べる"
   ]
  },
  {
   "cell_type": "code",
   "execution_count": 81,
   "id": "d0039c5b-0035-48ff-b727-7a2c2bd28be8",
   "metadata": {},
   "outputs": [
    {
     "name": "stdout",
     "output_type": "stream",
     "text": [
      "cut -f 1: 第１列を取り出す\n",
      "Mary\n",
      "Anna\n",
      "Emma\n",
      "Elizabeth\n",
      "Minnie\n",
      "\n",
      "sort: （辞書式順に）整列する\n",
      "Abigail\n",
      "Abigail\n",
      "Abigail\n",
      "Abigail\n",
      "Abigail\n",
      "\n",
      "uniq -c: 連続して一致する行をひとまとめにして勘定する\n",
      "  17 Abigail\n",
      "   3 Aiden\n",
      "   8 Alexander\n",
      "   8 Alexis\n",
      "  10 Alice\n",
      "\n",
      "sort -d -r: 十進数の大きさの逆順に整列\n",
      " 118 James\n",
      " 111 William\n",
      " 108 Robert\n",
      " 108 John\n",
      "  92 Mary\n"
     ]
    }
   ],
   "source": [
    "!echo \"cut -f 1: 第１列を取り出す\"\n",
    "!cut -f 1 popular-names.txt | head -n 5\n",
    "\n",
    "!echo \"\\nsort: （辞書式順に）整列する\"\n",
    "!cut -f 1 popular-names.txt | sort | head -n 5\n",
    "\n",
    "!echo \"\\nuniq -c: 連続して一致する行をひとまとめにして勘定する\"\n",
    "!cut -f 1 popular-names.txt | sort | uniq -c | head -n 5\n",
    "\n",
    "!echo \"\\nsort -d -r: 十進数の大きさの逆順に整列\"\n",
    "!cut -f 1 popular-names.txt | sort | uniq -c | sort -d -r | head -n 5"
   ]
  },
  {
   "cell_type": "code",
   "execution_count": null,
   "id": "2a553d63-14b0-4f51-ae68-d3ad694a46bb",
   "metadata": {},
   "outputs": [],
   "source": []
  }
 ],
 "metadata": {
  "kernelspec": {
   "display_name": "Python 3 (ipykernel)",
   "language": "python",
   "name": "python3"
  },
  "language_info": {
   "codemirror_mode": {
    "name": "ipython",
    "version": 3
   },
   "file_extension": ".py",
   "mimetype": "text/x-python",
   "name": "python",
   "nbconvert_exporter": "python",
   "pygments_lexer": "ipython3",
   "version": "3.9.10"
  }
 },
 "nbformat": 4,
 "nbformat_minor": 5
}
