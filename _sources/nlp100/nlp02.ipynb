{
 "cells": [
  {
   "cell_type": "markdown",
   "id": "258e878e-8d52-4043-b07e-aa492a2a0151",
   "metadata": {},
   "source": [
    "# 第３章: [正規表現](https://nlp100.github.io/ja/ch03.html)\n",
    "\n",
    "[脇田の回答例](https://colab.research.google.com/drive/12ejBdUYMdvgoBi815E1AZpbrfsUQ9kki?usp=sharing)"
   ]
  },
  {
   "cell_type": "markdown",
   "id": "26cfeb1c-3741-4b2c-b5f2-74eb1c57abf3",
   "metadata": {},
   "source": [
    "# 20. JSONデータの読み込み\n",
    "\n",
    "何度もファイルをダウンロードしないように `os.path.exists` で存在しないことを確認してから、ダウンロードする。"
   ]
  },
  {
   "cell_type": "code",
   "execution_count": 4,
   "id": "4313c034-95bc-4e8a-844b-387a53bb9227",
   "metadata": {},
   "outputs": [],
   "source": [
    "import gzip\n",
    "import os, os.path\n",
    "\n",
    "if not os.path.exists('jawiki-country.json.gz'):\n",
    "    os.system('wget --quiet https://nlp100.github.io/data/jawiki-country.json.gz')"
   ]
  },
  {
   "cell_type": "markdown",
   "id": "362c9543-9480-4234-9e6b-b519006398a5",
   "metadata": {},
   "source": [
    "つぎにダウンロードしたファイルを読み込み、イギリスのデータを取得し、`uk_text` という名前の変数に保存した。\n",
    "\n",
    "- `GZip` で圧縮されたファイルを開くには、[`gzip.open` 関数](https://docs.python.org/3.10/library/gzip.html#gzip.open) を使う。使い方は普通の [`open`関数](https://docs.python.org/3.10/library/functions.html#open) とほぼ同じ。\n",
    "\n",
    "- JSON形式の文字列を読み込むには[`json.loads`関数](https://docs.python.org/3.10/library/json.html#json.loads)を使う。ファイルハンドルから読み込むときは [`json.load`関数](https://docs.python.org/3.10/library/json.html#json.load)、逆にファイルハンドル (`w`) に書き込むときは[`json.dump(w, json_data)`関数](https://docs.python.org/3.10/library/json.html#json.dump)。JSON 形式の文字列を取得するには [`json.dumps`関数](https://docs.python.org/3.10/library/json.html#json.dumps)を使う。"
   ]
  },
  {
   "cell_type": "code",
   "execution_count": 6,
   "id": "7239cf64-d43f-4c49-911b-01dd216db506",
   "metadata": {},
   "outputs": [],
   "source": [
    "import json\n",
    "\n",
    "with gzip.open('jawiki-country.json.gz') as gz:\n",
    "    while True:\n",
    "        input = gz.readline()\n",
    "        if input == '': break\n",
    "        data = json.loads(input)\n",
    "        if data['title'] == 'イギリス':\n",
    "            uk_text = data['text'].split('\\n')\n",
    "            break"
   ]
  },
  {
   "cell_type": "markdown",
   "id": "aafa8825-e06a-4a05-9f5b-778bfa68984e",
   "metadata": {},
   "source": [
    "# 21. カテゴリ名を含む行を抽出\n",
    "\n",
    "この章の残りの問題を解くヒントを得るためにデータ形式を解析するために使う関数を定義する。"
   ]
  },
  {
   "cell_type": "code",
   "execution_count": 7,
   "id": "261ead09-f652-4d91-80be-ac9266ee6dac",
   "metadata": {},
   "outputs": [
    {
     "name": "stdout",
     "output_type": "stream",
     "text": [
      "{{Sisterlinks|commons=United Kingdom|commonscat=United Kingdom|s=Category:イギリス|n=Category:イギリス|voy=United Kingdom}}\n",
      "[[Category:イギリス|*]]\n",
      "[[Category:イギリス連邦加盟国]]\n",
      "[[Category:英連邦王国|*]]\n",
      "[[Category:G8加盟国]]\n",
      "[[Category:欧州連合加盟国|元]]\n",
      "[[Category:海洋国家]]\n",
      "[[Category:現存する君主国]]\n",
      "[[Category:島国]]\n",
      "[[Category:1801年に成立した国家・領域]]\n"
     ]
    }
   ],
   "source": [
    "import re\n",
    "\n",
    "def grep(pat):\n",
    "    '''uk_text の行のうち pat に合致するものを出力する。\n",
    "       Input:\n",
    "         - pat: 正規表現\n",
    "    '''\n",
    "    rx = re.compile(pat)\n",
    "    for line in uk_text:\n",
    "        if rx.search(line): print(line)\n",
    "\n",
    "grep('Category')"
   ]
  },
  {
   "cell_type": "markdown",
   "id": "15ae1e6c-eb09-4710-8384-afd8b87cc4bd",
   "metadata": {},
   "source": [
    "# 22. カテゴリ名の抽出\n",
    "\n",
    "ここから本格的な正規表現の練習が始まる。詳しくは [Regular Expression HOWTO](https://docs.python.org/3.10/howto/regex.html) を参照のこと。\n",
    "\n",
    "よく使う正規表現のメタ記号の使い方は：\n",
    "\n",
    "- `[abcdef]`: `a` or `b` or `c` or `d` or `e`\n",
    "\n",
    "- `[a-z]`: `a` or `b` or ... or `y` or `z`。`[A-Z]` や `[0-9]` も同様\n",
    "\n",
    "- `[^abcdef]`: `[a-f]` に適合しない文字\n",
    "\n",
    "- `[^]abc]`: `]`, `a`, `b`, `c` 以外の文字\n",
    "\n",
    "- `X|Y`: `X` あるいは `Y` のいずれかの正規表現に適合する文字列\n",
    "\n",
    "- `X*`: 正規表現`X`に適合する文字列の0個以上を接続したもの\n",
    "\n",
    "- `X+`: 正規表現`X`に適合する文字列の1個以上を接続したもの\n",
    "\n",
    "- `X(Y)Z`: 正規表現`XYZ`に適合する文字列。この正規表現の `match` メソッドが利用された場合、括弧に囲われた `Y` に適合する文字列を簡単に取得できる。\n",
    "\n",
    "    ~~~\n",
    "    rx = re.compile('-+ ([^-]+) -+')\n",
    "    m = rx.match('---------- This is an important message ---')\n",
    "    \n",
    "    if m: print(m[1])  # You see: This is an important message\n",
    "    ~~~\n",
    "\n",
    "この章の課題は多くは以下のような形式で解けると思う。\n",
    "\n",
    "~~~\n",
    "rx = re.compile('グループ機能を用いた正規表現')\n",
    "\n",
    "for line in uk_text:\n",
    "    m = rx.match(line)\n",
    "    if m: print(m[1])  # m[1] は正規表現の1番目のグループに適合した部分文字列\n",
    "~~~"
   ]
  },
  {
   "cell_type": "markdown",
   "id": "be29053b-26e5-4cd6-97d2-6495bb82c8d6",
   "metadata": {},
   "source": [
    "# 23. セクション構造\n",
    "\n",
    "[MediaWiki のセクション構造](https://www.mediawiki.org/wiki/Help:Formatting#Level_2)は二個以上の `==` でセクションタイトルを挟んで以下のように記述するらしい。\n",
    "\n",
    "~~~\n",
    "== Level 2 ==\n",
    "\n",
    "=== Level 3 ===\n",
    "\n",
    "==== Level 4 ====\n",
    "\n",
    "===== Level 5 =====\n",
    "\n",
    "====== Level 6 ======\n",
    "~~~\n",
    "\n",
    "これを正規表現で記述すればよい。ところで、上の例はタイトルを挟んで左右同数の `=` が出現している。Pumping 補題より、このようなパターンを正規表現で記述することはできないことが知られている。正規表現で記述する以上、同数条件は記述しないでよい。\n",
    "\n",
    "脇田の回答では、たくさん出力される項目を `IPython.display.Markdown` を用いて、表形式で出力している。"
   ]
  },
  {
   "cell_type": "markdown",
   "id": "d2720f03-bf1e-4c4f-9ca0-a6d9c530ce33",
   "metadata": {},
   "source": [
    "# 24. ファイル参照の抽出\n",
    "\n",
    "以下を実行して考える。\n",
    "\n",
    "~~~\n",
    "grep('ファイル')\n",
    "~~~"
   ]
  },
  {
   "cell_type": "markdown",
   "id": "cc76aa9d-0191-4aab-9107-9e8861efe421",
   "metadata": {},
   "source": [
    "# 25. テンプレートの抽出\n",
    "\n",
    "以下を実行して取り組む。出力をよくよくよく観察すること。\n",
    "\n",
    "~~~\n",
    "grep('基礎情報')\n",
    "~~~"
   ]
  },
  {
   "cell_type": "markdown",
   "id": "8c303740-eb39-45eb-a91c-ba5fe7cca607",
   "metadata": {},
   "source": [
    "# 26. 強調マークアップの除去\n",
    "\n",
    "`\"確立形態4 \": \"現在の国号「'''グレートブリテン及び北アイルランド連合王国'''」に変更\"`が該当するらしい。"
   ]
  },
  {
   "cell_type": "markdown",
   "id": "8f161b57-7ddc-41a2-a90e-edfab2a2e7bb",
   "metadata": {},
   "source": [
    "# 27. 内部リンクの除去\n",
    "\n",
    "似たようなコードを書くのが面倒になってくるころかと思う。きれいなプログラムを書くには工夫を要する。"
   ]
  },
  {
   "cell_type": "markdown",
   "id": "7a42b7ad-7909-4331-9e67-47b4059c716d",
   "metadata": {},
   "source": [
    "# 28. MediaWikiマークアップの除去\n",
    "\n",
    "正規表現についての最後の課題だ。がんばれ！"
   ]
  },
  {
   "cell_type": "markdown",
   "id": "5f4023f8-9a8d-4d7e-bf41-53f90f0bc574",
   "metadata": {},
   "source": [
    "# 29. 国旗画像のURLを取得する\n",
    "\n",
    "まず、言われたとおりに [MediaWiki の `imageinfo` API のドキュメント](https://www.mediawiki.org/wiki/API:Imageinfo)を眺めてみる。よくわからなくても、あきらめずに我慢して読む。\n",
    "\n",
    "説明に続いて、API を利用したときに返ってくる JSON データ (**Response**) と Python のサンプルコード (**Sample Code**) が掲載されている。\n",
    "\n",
    "~~~\n",
    "import requests\n",
    "\n",
    "S = requests.Session()\n",
    "\n",
    "URL = \"https://en.wikipedia.org/w/api.php\"\n",
    "\n",
    "PARAMS = {\n",
    "    \"action\": \"query\",\n",
    "    \"format\": \"json\",\n",
    "    \"prop\": \"imageinfo\",\n",
    "    \"titles\": \"File:Billy_Tipton.jpg\"\n",
    "}\n",
    "\n",
    "R = S.get(url=URL, params=PARAMS)\n",
    "DATA = R.json()\n",
    "\n",
    "PAGES = DATA[\"query\"][\"pages\"]\n",
    "\n",
    "for k, v in PAGES.items():\n",
    "    print(v[\"title\"] + \" is uploaded by User:\" + v[\"imageinfo\"][0][\"user\"])\n",
    "~~~\n",
    "\n",
    "**Sample code** の `PAGES` 変数に代入されている `DATA[\"query\"][\"pages\"]` が、**Response** の構造を反映していることに注目。`PAGES` は `batchcomplete`, `query` 属性を持つJSON 辞書で、`query` 属性の値もまた JSON 辞書。`query` 属性の値の `pages` 属性の値を `PAGES` に代入していることになる。`for k, v in PAGES.items():` のなかで `title`, `imageinfo` などを取得しているが、それと `PAGES` の構造をよく見比べること。\n",
    "\n",
    "この例は `Billy_Tipton.jpg` という画像の `title` を取得する例だった。画像を取得するにはどうすればよいだろうか？もう一度、[MediaWiki の `imageinfo` API のドキュメント](https://www.mediawiki.org/wiki/API:Imageinfo) を読み返せばわかるだろう。"
   ]
  }
 ],
 "metadata": {
  "kernelspec": {
   "display_name": "Python 3 (ipykernel)",
   "language": "python",
   "name": "python3"
  },
  "language_info": {
   "codemirror_mode": {
    "name": "ipython",
    "version": 3
   },
   "file_extension": ".py",
   "mimetype": "text/x-python",
   "name": "python",
   "nbconvert_exporter": "python",
   "pygments_lexer": "ipython3",
   "version": "3.9.10"
  }
 },
 "nbformat": 4,
 "nbformat_minor": 5
}
