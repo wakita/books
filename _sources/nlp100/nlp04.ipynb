{
 "cells": [
  {
   "cell_type": "markdown",
   "id": "41fd1f78-000f-443c-8a35-43fe19ba4841",
   "metadata": {},
   "source": [
    "# 第４章: [形態素解析](https://nlp100.github.io/ja/ch04.html)\n",
    "\n",
    "[脇田の回答例](https://colab.research.google.com/drive/1NIrvOIfSCH_v9drBXA9LTCoFchbU3xHq?usp=sharing)\n",
    "\n",
    "## 参考資料\n",
    "\n",
    "- [An Introduction to Natural Language in Python using spaCy](https://colab.research.google.com/github/DerwenAI/spaCy_tuTorial/blob/master/spaCy_tuTorial.ipynb#scrollTo=v95pjRb1H87Z)"
   ]
  },
  {
   "cell_type": "markdown",
   "id": "e646053a-62bd-4de3-a8b3-9c82b057b792",
   "metadata": {},
   "source": [
    "# 30. 形態素解析結果の読み込み"
   ]
  },
  {
   "cell_type": "markdown",
   "id": "8744208d-ee6a-47b1-b0cd-22c2257ef1c7",
   "metadata": {},
   "source": [
    "# 31. 動詞"
   ]
  },
  {
   "cell_type": "markdown",
   "id": "a4fc94a9-ace2-4976-9524-d31a024fe9ed",
   "metadata": {},
   "source": [
    "# 32. 動詞の基本形"
   ]
  },
  {
   "cell_type": "markdown",
   "id": "69d08d96-6246-4679-ac71-851364561373",
   "metadata": {},
   "source": [
    "# 33. 「AのB」"
   ]
  },
  {
   "cell_type": "markdown",
   "id": "c8cf694f-e294-4aee-b938-3868af3f0649",
   "metadata": {},
   "source": [
    "# 34. 名詞の連接"
   ]
  },
  {
   "cell_type": "markdown",
   "id": "b3a9624e-1f59-42ea-9b37-c2dfd76e53d7",
   "metadata": {},
   "source": [
    "# 35. 単語の出現頻度"
   ]
  },
  {
   "cell_type": "markdown",
   "id": "3396bf0c-5058-4306-8320-0bb7342182cc",
   "metadata": {},
   "source": [
    "# 36. 頻度上位10語"
   ]
  },
  {
   "cell_type": "markdown",
   "id": "fc63f2f4-1c3b-4aef-b678-4de35026fa33",
   "metadata": {},
   "source": [
    "# 37. 「猫」と共起頻度の高い上位10語"
   ]
  },
  {
   "cell_type": "markdown",
   "id": "1aa0d66a-df42-4c31-863e-c4a1f7706dbe",
   "metadata": {},
   "source": [
    "# 38. ヒストグラム"
   ]
  },
  {
   "cell_type": "markdown",
   "id": "94671064-13d6-4640-9b59-3ebf16634c4a",
   "metadata": {},
   "source": [
    "# 39. Zipfの法則"
   ]
  },
  {
   "cell_type": "code",
   "execution_count": null,
   "id": "d68afc7f-11ea-4cde-ab57-dd60cf34ff97",
   "metadata": {},
   "outputs": [],
   "source": []
  }
 ],
 "metadata": {
  "kernelspec": {
   "display_name": "Python 3 (ipykernel)",
   "language": "python",
   "name": "python3"
  },
  "language_info": {
   "codemirror_mode": {
    "name": "ipython",
    "version": 3
   },
   "file_extension": ".py",
   "mimetype": "text/x-python",
   "name": "python",
   "nbconvert_exporter": "python",
   "pygments_lexer": "ipython3",
   "version": "3.9.10"
  }
 },
 "nbformat": 4,
 "nbformat_minor": 5
}
