{
 "cells": [
  {
   "cell_type": "markdown",
   "id": "124da428-1d76-41ae-b80e-489997c4882d",
   "metadata": {},
   "source": [
    "# Enjoy Simple English"
   ]
  },
  {
   "cell_type": "markdown",
   "id": "bc658a1e-9634-43dd-9fd0-ecc11617e179",
   "metadata": {},
   "source": [
    "# 10月の放送カレンダー\n",
    "\n",
    "| 月曜<br/>Short Stories | 火曜<br/>Rakugo | 水曜<br/>Heros and Giants | 木曜<br/>Marie the Scientist | 金曜<br/>Japanese Classics |\n",
    "| --- | --- | --- | --- | --- |\n",
    "| Transfer | How to Steal a Cooking Pot | Chales Chaplin | Why Do Parrots Copy Our Words | The Kojiki – The Beginning |\n",
    "| In Her Place | The Drunk Sake Sales men | Coco Chanel | Why No Metal Cups in a Microwave Oven? | The Kojiki – The Land of the Dead |\n",
    "| Coloring Book | One after Another | Saigo Takamori | Why Do We Pay for Plastic Bags? | The Kojiki – The Goddess' Cave |\n",
    "| Stop Button | Tanuki Money | Bob Dylan | Can I Go in a Black Hole? | The Kojiki – The Eight-headed Snake |\n",
    "\n",
    "月曜〜木曜は A2 レベル（高校生くらい）で金曜は B1 レベル（高校卒業くらい）"
   ]
  },
  {
   "cell_type": "markdown",
   "id": "cb21fcb3-6fd2-4b04-8e1f-8e5d1a4a2bab",
   "metadata": {},
   "source": [
    "# メッセージ\n",
    "\n",
    "1日5分、やさしい英語で書かれたストーリーを聞き続けて英語の感覚に慣れ親しむ\n",
    "\n",
    "英語を英語のまま**ひたすら聞く**\n",
    "\n",
    "生まれたばかりの赤ちゃんは家族やまわりの人々が話す言葉を約２年間ずっと聞いて、言葉の意味や文法の理解を自分の中に蓄積し、ある日話し始める。\n",
    "\n",
    "少しくらい理解できない部分があっても、気にせず聞き続ける。\n",
    "\n",
    "## 放送前にテキストを**読む**\n",
    "\n",
    "- 日本語に訳さずに読んでいく\n",
    "- なるべく辞書は引かずに、90パーセントの理解を目指す\n",
    "- 難しすぎる話、興味のないストーリーはやめる\n",
    "\n",
    "## 放送で**聞く**\n",
    "\n",
    "- ストーリーの進行に合わせて頭を切り替える\n",
    "- 放送で音を確認する\n",
    "\n",
    "## 放送後に再度**読む**\n",
    "\n",
    "- 気になるストーリーだけを読み返す"
   ]
  }
 ],
 "metadata": {
  "kernelspec": {
   "display_name": "Python 3 (ipykernel)",
   "language": "python",
   "name": "python3"
  },
  "language_info": {
   "codemirror_mode": {
    "name": "ipython",
    "version": 3
   },
   "file_extension": ".py",
   "mimetype": "text/x-python",
   "name": "python",
   "nbconvert_exporter": "python",
   "pygments_lexer": "ipython3",
   "version": "3.9.8"
  }
 },
 "nbformat": 4,
 "nbformat_minor": 5
}
