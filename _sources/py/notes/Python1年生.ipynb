{
 "cells": [
  {
   "cell_type": "markdown",
   "id": "8f344bff-908e-4f6a-aa43-7e2ff3e143f3",
   "metadata": {},
   "source": [
    "# Python１年生\n",
    "\n",
    "## 体験してわかる！会話でまなべる！プログラミングのしくみ\n",
    "\n",
    "簡単なプログラムから人工知能アプリまで体験\n",
    "\n",
    "- 基礎知識がわかる\n",
    "- 基本文法をまなべる\n",
    "- 開発体験ができる\n",
    "\n",
    "問合せ先\n",
    "- [正誤表](http://www.shoeisha.co.jp/book/errata/)\n",
    "- [Q&A](http://www.shoeisha.co.jp/book/qa/)"
   ]
  },
  {
   "cell_type": "markdown",
   "id": "7fbfff52-5882-4212-905d-6338bd14495b",
   "metadata": {},
   "source": [
    "# はじめに\n",
    "\n",
    "- 人工知能への関心\n",
    "- いずれは人工知能も学びたいPython初心者向け\n",
    "- 目標設定：「手書きの数字を解読する人工知能アプリ」まで\n",
    "\n",
    "    すでにできている人工知能を利用する"
   ]
  },
  {
   "cell_type": "markdown",
   "id": "7eafcf48-8e74-49ee-b328-1008c14fb7fa",
   "metadata": {},
   "source": [
    "## Python で何ができるの？\n",
    "\n",
    "1. Python って何だろう？\n",
    "1. インストールしてみよう"
   ]
  },
  {
   "cell_type": "markdown",
   "id": "287d793d-8182-4cea-9b74-9e6a5d7b9308",
   "metadata": {},
   "source": [
    "# Pythonを触ってみよう\n",
    "\n",
    "1. IDLEで始めよう\n",
    "\n",
    "    命令 / 演算子\n",
    "\n",
    "1. 文字も表示させてみよう\n",
    "\n",
    "    表示 / 文字列や数字を組み合わせて表示\n",
    "\n",
    "1. ファイルでプログラミング\n",
    "\n",
    "    プログラム / おみくじ / BMI\n",
    "\n",
    "1. カメでお絵かき\n",
    "\n",
    "    直線 / 正方形 / カラフルな星 / カラフルな花 / 複雑な絵"
   ]
  },
  {
   "cell_type": "markdown",
   "id": "ef8a1ed3-dd28-4329-a893-da6fe136068b",
   "metadata": {},
   "source": [
    "# プログラムの基本を知ろう\n",
    "\n",
    "1. プログラムって何？\n",
    "\n",
    "1. データは「入れ物」に入れて使う\n",
    "\n",
    "    変数 / 表示 / 変数を使った計算 / データの種類\n",
    "\n",
    "1. 文字列の操作を覚えよう\n",
    "\n",
    "    つなぐ / 調べる / 一部分を取り出す / 途中で改行\n",
    "\n",
    "1. データ型を変換する\n",
    "\n",
    "    型変換 / エラー\n",
    "\n",
    "1. たくさんのデータは「リスト」にまとめる\n",
    "\n",
    "    リスト / おみくじ / タートルグラフィックとリスト\n",
    "\n",
    "1. プログラムで考えるときの３つの基本: 上から順番 / もしも / 繰り返す\n",
    "\n",
    "1. もしも〜\n",
    "\n",
    "    `if`文 / 「そうでないとき」\n",
    "\n",
    "1. 同じ処理を繰り返す\n",
    "\n",
    "    `for`文 / 点数の和\n",
    "\n",
    "1. １つの仕事は、１つにまとめる\n",
    "\n",
    "    関数 / 引数 / 消費税\n",
    "\n",
    "1. 他の人が作ったプログラムを利用する\n",
    "\n",
    "    `import` / モジュールを作る"
   ]
  },
  {
   "cell_type": "markdown",
   "id": "7ceba6be-f303-43bc-b9ad-88bf5146fead",
   "metadata": {},
   "source": [
    "# アプリを作ってみよう\n",
    "\n",
    "1. 操作できるアプリを作る\n",
    "\n",
    "    こんにちは / ボタン / tkinter\n",
    "\n",
    "1. 画像ファイル\n",
    "\n",
    "    ライブラリのインストール\n",
    "\n",
    "1. 画像表示アプリの中で何をしているの？"
   ]
  },
  {
   "cell_type": "markdown",
   "id": "f75fd019-2d95-4796-8555-3aa2b667c64d",
   "metadata": {},
   "source": [
    "# 人工知能くんと遊んでみよう\n",
    "\n",
    "1. 人工知能って何だろう？\n",
    "\n",
    "1. 人工知能を作る準備をしよう\n",
    "\n",
    "    インストール方法\n",
    "\n",
    "1. 機械学習に調整しよう\n",
    "\n",
    "    学習データ / 数字の認識\n",
    "\n",
    "1. 数字予測プログラムの中を見てみよう\n",
    "\n",
    "1. 人工知能アプリ「チノ」を作ろう\n",
    "\n",
    "1. 人工知能アプリ「チノ」を成長させよう\n",
    "\n",
    "1. これから何を勉強したらいいの？\n",
    "\n",
    "    scikit-learn / とにかく作ろう"
   ]
  }
 ],
 "metadata": {
  "kernelspec": {
   "display_name": "Python 3 (ipykernel)",
   "language": "python",
   "name": "python3"
  },
  "language_info": {
   "codemirror_mode": {
    "name": "ipython",
    "version": 3
   },
   "file_extension": ".py",
   "mimetype": "text/x-python",
   "name": "python",
   "nbconvert_exporter": "python",
   "pygments_lexer": "ipython3",
   "version": "3.9.8"
  }
 },
 "nbformat": 4,
 "nbformat_minor": 5
}
