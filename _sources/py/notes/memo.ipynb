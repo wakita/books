{
 "cells": [
  {
   "cell_type": "code",
   "execution_count": 1,
   "id": "23e3d828-c27e-4bd6-b4ba-6df971264f3c",
   "metadata": {},
   "outputs": [],
   "source": [
    "# Memo"
   ]
  },
  {
   "cell_type": "code",
   "execution_count": 10,
   "id": "c11975c0-3d20-4252-99d4-7fd3765931bb",
   "metadata": {},
   "outputs": [],
   "source": [
    "from IPython.display import Markdown, display"
   ]
  },
  {
   "cell_type": "markdown",
   "id": "closing-little",
   "metadata": {},
   "source": [
    "# 複数行にわたる文字列\n",
    "\n",
    "```\n",
    "'''スタートの合図とともに選手たちは一斉に走り出しました。\n",
    "大きな先頭集団は5km地点にさしかろうかというところです。\n",
    "後続の集団も元気に食い付いています。\n",
    "'''\n",
    "```"
   ]
  },
  {
   "cell_type": "code",
   "execution_count": 3,
   "id": "accepting-exercise",
   "metadata": {},
   "outputs": [
    {
     "name": "stdout",
     "output_type": "stream",
     "text": [
      "スタートの合図とともに選手たちは一斉に走り出しました。\n",
      "大きな先頭集団は5km地点にさしかろうかというところです。\n",
      "後続の集団も元気に食い付いています。\n",
      "\n"
     ]
    }
   ],
   "source": [
    "記事 = '''スタートの合図とともに選手たちは一斉に走り出しました。\n",
    "大きな先頭集団は5km地点にさしかろうかというところです。\n",
    "後続の集団も元気に食い付いています。\n",
    "'''\n",
    "print(記事)"
   ]
  },
  {
   "cell_type": "markdown",
   "id": "selective-turning",
   "metadata": {},
   "source": [
    "# 書式つき文字列\n",
    "\n",
    "- データの埋め込み\n",
    "\n",
    "| 選手名 | 大会名とその時の成績 | 平均ピッチ | 平均ストライド | 身長 | 身長比 |\n",
    "| ---   | ----------------- | -------- | ----------- | ---- | ----- |\n",
    "| キプチョゲ | 18年・ベルリン①2.01.39. | 187.5歩/分 | 185.0cm | 167cm | 110.80% |\n",
    "| 谷口浩美 | 91年・東京世選①2.14.57. | 223.7歩/分 | 140.3cm | 171cm | 82.00% |\n",
    "| 高岡寿成 | 02年・シカゴ③2.06.16. | 178.5歩/分 | 187.2cm | 186cm | 100.70% |\n",
    "\n",
    "「【記録と数字で楽しむMGC】ピッチ、ストライド、ストライドの身長比を計測＆計算してみよう」より\n",
    "https://www.jaaf.or.jp/news/article/13136/?competition=1366"
   ]
  },
  {
   "cell_type": "code",
   "execution_count": 87,
   "id": "7e54b6ff-0f57-432a-8d87-83c90719a3fd",
   "metadata": {},
   "outputs": [
    {
     "name": "stdout",
     "output_type": "stream",
     "text": [
      "\n",
      "キプチョゲ選手：\n",
      "- スピード:        347.60m/分\n",
      "- 平均ストライド:   1.85m/歩\n",
      "- 身長比:          111.01%\n",
      "\n"
     ]
    }
   ],
   "source": [
    "# キプチョゲ選手の平均ストライド\n",
    "\n",
    "マラソンの距離 = 42.195 # km\n",
    "キプチョゲ選手のマラソン記録 = 2 * 60 + 1 + 39/100 # 分\n",
    "キプチョゲ選手のスピード = マラソンの距離 * 1000 / キプチョゲ選手のマラソン記録 # m/分\n",
    "キプチョゲ選手の平均ピッチ = 187.5 # 歩/分\n",
    "キプチョゲ選手の平均ストライド = キプチョゲ選手のスピード / キプチョゲ選手の平均ピッチ # m/分 / (歩/分) = m/歩\n",
    "キプチョゲ選手の身長 = 167 # cm\n",
    "キプチョゲ選手のストライド身長比 = キプチョゲ選手の平均ストライド * 100 / キプチョゲ選手の身長 * 100 # %\n",
    "\n",
    "print(f'''\n",
    "キプチョゲ選手：\n",
    "- スピード:        {キプチョゲ選手のスピード:.2f}m/分\n",
    "- 平均ストライド:   {キプチョゲ選手の平均ストライド:.2f}m/歩\n",
    "- 身長比:          {キプチョゲ選手のストライド身長比:.2f}%\n",
    "''')"
   ]
  },
  {
   "cell_type": "code",
   "execution_count": 85,
   "id": "86ea0395-e09a-444e-8225-9d7d0a515107",
   "metadata": {},
   "outputs": [],
   "source": [
    "def ストライドの分析(選手名, マラソン記録, 平均ピッチ, 身長):\n",
    "    時間  = [int(x) for x in マラソン記録.split('.')]\n",
    "    マラソン記録 = (時間[0] * 60 + 時間[1]) + 時間[2] / 60\n",
    "    \n",
    "    マラソンの距離 = 42.195 # km\n",
    "    スピード = マラソンの距離 * 1000 / マラソン記録 # m/分\n",
    "    平均ストライド = スピード / 平均ピッチ * 100 # cm/歩\n",
    "    ストライド身長比 = 平均ストライド / 身長 * 100 # %\n",
    "    \n",
    "    print(f'''\\\n",
    "{選手名}選手：\n",
    "- スピード:        {スピード:.2f}m/分\n",
    "- 平均ストライド:   {平均ストライド:.2f}cm/歩\n",
    "- 身長比:          {ストライド身長比:.2f}%\n",
    "''')"
   ]
  },
  {
   "cell_type": "code",
   "execution_count": 86,
   "id": "680a03cd-c4d3-4e96-aab3-77255ab5bf78",
   "metadata": {},
   "outputs": [
    {
     "name": "stdout",
     "output_type": "stream",
     "text": [
      "キプチョゲ選手：\n",
      "- スピード:        346.86m/分\n",
      "- 平均ストライド:   184.99cm/歩\n",
      "- 身長比:          110.77%\n",
      "\n"
     ]
    }
   ],
   "source": [
    "ストライドの分析('キプチョゲ', '2.01.39', 187.5, 167)"
   ]
  },
  {
   "cell_type": "markdown",
   "id": "1cd04a6d-094c-441d-9068-5d2fff3a9a85",
   "metadata": {},
   "source": [
    "# 繰り返し\n",
    "\n"
   ]
  },
  {
   "cell_type": "code",
   "execution_count": 80,
   "id": "420e6a8e-a641-421b-904c-5e49c085fff7",
   "metadata": {},
   "outputs": [
    {
     "name": "stdout",
     "output_type": "stream",
     "text": [
      "キプチョゲ選手：\n",
      "- スピード:        346.86m/分\n",
      "- 平均ストライド:   184.99cm/歩\n",
      "- ストライド／身長: 110.77%\n",
      "\n",
      "谷口浩美選手：\n",
      "- スピード:        312.67m/分\n",
      "- 平均ストライド:   139.77cm/歩\n",
      "- ストライド／身長: 81.74%\n",
      "\n",
      "高岡寿成選手：\n",
      "- スピード:        334.17m/分\n",
      "- 平均ストライド:   187.21cm/歩\n",
      "- ストライド／身長: 100.01%\n",
      "\n"
     ]
    }
   ],
   "source": [
    "選手たちの情報 = [\n",
    "    ('キプチョゲ', '2.01.39', 187.5, 167),\n",
    "    ('谷口浩美',   '2.14.57', 223.7, 171),\n",
    "    ('高岡寿成',   '2.06.16', 178.5, 187.2)]\n",
    "\n",
    "for 情報 in 選手たちの情報:\n",
    "    ストライドの分析(*情報)\n",
    "    \n",
    "# なぜか記事のデータとずれる理由は不明"
   ]
  },
  {
   "cell_type": "markdown",
   "id": "f4deba09-93e5-42ef-abb7-cabdfed56da9",
   "metadata": {},
   "source": [
    "# 付録"
   ]
  },
  {
   "cell_type": "markdown",
   "id": "2f8a9dc0-7591-487e-a5c0-76a0b544a9e9",
   "metadata": {},
   "source": [
    "## 各種記号\n",
    "\n",
    "ASCII 文字とその意味、使用用途"
   ]
  },
  {
   "cell_type": "markdown",
   "id": "f5f2397c-305d-45e3-af74-122e52d1ad18",
   "metadata": {},
   "source": [
    "# 構文のまとめ"
   ]
  },
  {
   "cell_type": "markdown",
   "id": "f2875701-8210-4147-aa47-a7a363f86829",
   "metadata": {},
   "source": [
    "# 索引\n",
    "\n",
    "## 概念の索引\n",
    "\n",
    "## 型の索引\n",
    "\n",
    "## 関数の索引\n",
    "\n",
    "## モジュールの索引"
   ]
  },
  {
   "cell_type": "code",
   "execution_count": null,
   "id": "57563714-298a-45ca-92d7-9b95837ced9e",
   "metadata": {},
   "outputs": [],
   "source": []
  }
 ],
 "metadata": {
  "kernelspec": {
   "display_name": "Python 3 (ipykernel)",
   "language": "python",
   "name": "python3"
  },
  "language_info": {
   "codemirror_mode": {
    "name": "ipython",
    "version": 3
   },
   "file_extension": ".py",
   "mimetype": "text/x-python",
   "name": "python",
   "nbconvert_exporter": "python",
   "pygments_lexer": "ipython3",
   "version": "3.9.8"
  }
 },
 "nbformat": 4,
 "nbformat_minor": 5
}
