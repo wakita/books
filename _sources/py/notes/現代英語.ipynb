{
 "cells": [
  {
   "cell_type": "markdown",
   "id": "785336cf-b713-4aab-85a7-f49eb03e0632",
   "metadata": {},
   "source": [
    "# 高校生からはじめる「現代英語」\n",
    "## 今、世界で使える英語を身につけよう！"
   ]
  },
  {
   "cell_type": "markdown",
   "id": "880d6e0e-ba22-4645-9664-57d7d24140d2",
   "metadata": {},
   "source": [
    "# 番組の構成"
   ]
  },
  {
   "cell_type": "markdown",
   "id": "c5ada91e-d5d9-4b62-aeee-176dfd3677b9",
   "metadata": {},
   "source": [
    "## 奇数日\n",
    "\n",
    "- ニュースの提示: ニュースの背景説明\n",
    "- ニュース英文本文\n",
    "- 構造解説: 見出し、導入部、捕捉情報などの要旨を素早く把握する\n",
    "- Words & Phrases\n",
    "- 日本語訳\n",
    "- 現代英語を読み解く\n",
    "- Things You Should Know: 語法や背景知識\n",
    "- Replace the Japanese: 穴埋めクイズ"
   ]
  },
  {
   "cell_type": "markdown",
   "id": "511cd6cd-ae2b-46cd-863c-4c5b38dd34e3",
   "metadata": {},
   "source": [
    "## 偶数日\n",
    "\n",
    "- 反訳トレーニング: 日本語 → 英語\n",
    "- Let's Try!: 反訳の応用練習\n",
    "- Sam's Notes: 長文の読み解き方\n",
    "- Discussion\n",
    "- 全文反訳にトライ！\n",
    "- 言葉の心: 語源、背景、ニュアンス"
   ]
  }
 ],
 "metadata": {
  "kernelspec": {
   "display_name": "Python 3 (ipykernel)",
   "language": "python",
   "name": "python3"
  },
  "language_info": {
   "codemirror_mode": {
    "name": "ipython",
    "version": 3
   },
   "file_extension": ".py",
   "mimetype": "text/x-python",
   "name": "python",
   "nbconvert_exporter": "python",
   "pygments_lexer": "ipython3",
   "version": "3.9.8"
  }
 },
 "nbformat": 4,
 "nbformat_minor": 5
}
