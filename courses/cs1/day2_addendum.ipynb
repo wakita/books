{
 "cells": [
  {
   "cell_type": "markdown",
   "metadata": {},
   "source": [
    "# 資料の配布"
   ]
  },
  {
   "cell_type": "code",
   "execution_count": 5,
   "metadata": {
    "colab": {
     "base_uri": "https://localhost:8080/",
     "height": 99
    },
    "id": "XbvrHGDe336T",
    "outputId": "74b9d1ef-7019-4f13-bd31-568bd329854a"
   },
   "outputs": [
    {
     "data": {
      "text/html": [
       "<p>初回の資料より「共有されたノートブックの扱いについての<strong style=\"color: red\">超重要な注意点</strong>」</p>"
      ],
      "text/plain": [
       "<IPython.core.display.HTML object>"
      ]
     },
     "execution_count": 5,
     "metadata": {},
     "output_type": "execute_result"
    }
   ],
   "source": [
    "from IPython.display import Math, HTML, Markdown, display\n",
    "HTML('<p>初回の資料より「共有されたノートブックの扱いについての<strong style=\"color: red\">超重要な注意点</strong>」</p>')"
   ]
  },
  {
   "cell_type": "markdown",
   "metadata": {
    "id": "HcOYMRQm19hX"
   },
   "source": [
    "## 解説1: 動かないスマイルくん\n",
    "\n",
    "動かないスマイルくんは見ていて面白い例題ではありません．最初にスマイルくんが表示されます．毎秒，スマイル君の表示は更新されますが，毎回，同じ内容が書かれるため画面表示に変化はありません．\n",
    "\n",
    "この例題から一連の例の基本的な構造を学んで下さい．\n",
    "\n",
    "- 4行目から13行目までに宣言されている変数群 d1 - d10 がスマイルくんの絵を表しています．\n",
    "\n",
    "- 15行目に定義されている変数 *t* はプログラム開始時間からの経過秒数を保存するために用意されています．この変数を更新しているのは33行目です．\n",
    "\n",
    "- 16行目からの **while**文が主要な処理です．\n",
    "    - 最初に画面を消去します．画面が一瞬，消えるのはこの仕業です． (17行目)\n",
    "    - 19-28行目で d1 - d10 の内容を `print` します．ここでスマイルくんが表示されます．\n",
    "    - 30行目でプログラムは 1 秒間寝ます．この1秒の経過を記録しているのが 31 行目です．"
   ]
  },
  {
   "cell_type": "code",
   "execution_count": null,
   "metadata": {
    "colab": {
     "base_uri": "https://localhost:8080/"
    },
    "id": "_iSAcQhZymkz",
    "outputId": "2783f0e6-22ee-4ead-ed2a-117415944d90"
   },
   "outputs": [
    {
     "name": "stdout",
     "output_type": "stream",
     "text": [
      "1000000000000000000000000000\n",
      "1000000000110000110000000000\n",
      "1000000000110000110000000000\n",
      "1000000000000000000000000000\n",
      "1000001100000000000011000000\n",
      "1000000110000000000110000000\n",
      "1000000011000000001100000000\n",
      "1000000000111111110000000000\n",
      "1000000000000000000000000000\n",
      "1000000000000000000000000000\n"
     ]
    }
   ],
   "source": [
    "from google.colab import output\n",
    "import time\n",
    "\n",
    "d1 =  1000000000000000000000000000\n",
    "d2 =  1000000000110000110000000000\n",
    "d3 =  1000000000110000110000000000\n",
    "d4 =  1000000000000000000000000000\n",
    "d5 =  1000001100000000000011000000\n",
    "d6 =  1000000110000000000110000000\n",
    "d7 =  1000000011000000001100000000\n",
    "d8 =  1000000000111111110000000000\n",
    "d9 =  1000000000000000000000000000\n",
    "d10 = 1000000000000000000000000000\n",
    "\n",
    "t = 0    # 経過秒数\n",
    "while t < 15:\n",
    "    output.clear()\n",
    "\n",
    "    print(d1)\n",
    "    print(d2)\n",
    "    print(d3)\n",
    "    print(d4)\n",
    "    print(d5)\n",
    "    print(d6)\n",
    "    print(d7)\n",
    "    print(d8)\n",
    "    print(d9)\n",
    "    print(d10)\n",
    "\n",
    "    time.sleep(1)                # 1秒休む\n",
    "    t = t + 1"
   ]
  },
  {
   "cell_type": "markdown",
   "metadata": {
    "id": "-ARksHtY0MBg"
   },
   "source": [
    "## 例2: 消えていくスマイルくん\n",
    "\n",
    "- スマイルくんはどのように消えていくんだろう？\n",
    "\n",
    "- スマイルくんを消す計算はどうなっているんだろう？"
   ]
  },
  {
   "cell_type": "code",
   "execution_count": null,
   "metadata": {
    "colab": {
     "base_uri": "https://localhost:8080/"
    },
    "id": "pMcl8dJaz3Wk",
    "outputId": "7c50755f-eb45-4688-98fe-458a1921d046"
   },
   "outputs": [
    {
     "name": "stdout",
     "output_type": "stream",
     "text": [
      "1\n",
      "1\n",
      "1\n",
      "1\n",
      "1\n",
      "1\n",
      "1\n",
      "1\n",
      "1\n",
      "1\n"
     ]
    }
   ],
   "source": [
    "from google.colab import output\n",
    "import time\n",
    "\n",
    "d1 =  1000000000000000000000000000\n",
    "d2 =  1000000000110000110000000000\n",
    "d3 =  1000000000110000110000000000\n",
    "d4 =  1000000000000000000000000000\n",
    "d5 =  1000001100000000000011000000\n",
    "d6 =  1000000110000000000110000000\n",
    "d7 =  1000000011000000001100000000\n",
    "d8 =  1000000000111111110000000000\n",
    "d9 =  1000000000000000000000000000\n",
    "d10 = 1000000000000000000000000000\n",
    "\n",
    "t = 0\n",
    "while t < 28:\n",
    "    output.clear()\n",
    "\n",
    "    print(d1)\n",
    "    print(d2)\n",
    "    print(d3)\n",
    "    print(d4)\n",
    "    print(d5)\n",
    "    print(d6)\n",
    "    print(d7)\n",
    "    print(d8)\n",
    "    print(d9)\n",
    "    print(d10)\n",
    "\n",
    "    time.sleep(1)                  # 1秒休む\n",
    "    t = t + 1\n",
    "\n",
    "    d1  = d1  // 10\n",
    "    d2  = d2  // 10\n",
    "    d3  = d3  // 10\n",
    "    d4  = d4  // 10\n",
    "    d5  = d5  // 10\n",
    "    d6  = d6  // 10\n",
    "    d7  = d7  // 10\n",
    "    d8  = d8  // 10\n",
    "    d9  = d9  // 10\n",
    "    d10 = d10 // 10"
   ]
  },
  {
   "cell_type": "markdown",
   "metadata": {
    "id": "YJOdXdbqdkEb"
   },
   "source": [
    "### 10 による除算の商の効果\n",
    "\n",
    "この例ではスマイルくんを表示している領域の幅が徐々に狭まります．\n",
    "\n",
    "プログラムの内容は 31 行目までは完全に一致しています．33 - 42 行目の割り算だけが異なります．この割り算の働きについて学ぶために以下のもっと小さな例を見てみましょう．\n",
    "\n",
    "この例は「消えていくスマイルくん」のプログラムのエッセンスにあたります．表示領域は1行だけにし，プログラムは眠らず，一気に動作します．また，プログラムの動作過程がわかりやすいように画面消去もしていません．\n",
    "\n",
    "このプログラムは `d1 = 101010101010` を表示してから，`while` 文のループをまわるごとに *d1* の値を 10 で割った商に置換しています．このため，*d1* の値は，101010101010, 10101010101, 101010101010, ... と変化します．\n",
    "\n",
    "十進数 12345 を例に考えてみましょう．これを 10 で割った商は 1234 です．さらにこれを 10 で割った商は 123 です．十進数を10で割った商は，一番右の桁を削除する効果があります．（一般に N 進数での割り算の商も一番右の桁を削除する効果があります）\n",
    "\n",
    "「消えていくスマイルくん」のプログラムは，この「10による除算の商」が一番右をなくす効果を上手に使った例にあたります．"
   ]
  },
  {
   "cell_type": "code",
   "execution_count": null,
   "metadata": {
    "colab": {
     "base_uri": "https://localhost:8080/"
    },
    "id": "fH4z1jsUeZ69",
    "outputId": "45e63ed1-704b-4143-8fe1-8777317b1458"
   },
   "outputs": [
    {
     "name": "stdout",
     "output_type": "stream",
     "text": [
      "1010101010\n",
      "\n",
      "101010101\n",
      "\n",
      "10101010\n",
      "\n",
      "1010101\n",
      "\n",
      "101010\n",
      "\n",
      "10101\n",
      "\n",
      "1010\n",
      "\n",
      "101\n",
      "\n",
      "10\n",
      "\n",
      "1\n",
      "\n"
     ]
    }
   ],
   "source": [
    "from google.colab import output\n",
    "import time\n",
    "\n",
    "d1 =  1010101010\n",
    "\n",
    "t = 0\n",
    "while t < 10:\n",
    "    print(d1)\n",
    "    print()\n",
    "    t = t + 1\n",
    "    d1 = d1 // 10"
   ]
  },
  {
   "cell_type": "markdown",
   "metadata": {
    "id": "VU0ob168iAwS"
   },
   "source": [
    "### スマイルくんを右に移動するためのヒント\n",
    "\n",
    "10による除算の商にすこしだけ工夫を追加するとスマイルくんを右に移動することができます．\n",
    "\n",
    "前の例では，表示領域の幅が狭くなりました．以下の例は表示領域の幅を維持するために，狭くなった分だけ左端に 1 を追加しています．14 行目で 1000000000 を足しているのがこの目的です．d1 は 10 で割っているために 1000000000 よりも小さな数になります．このため，1000000000 を足せば一番左の数は必ず 1 になるという理屈です．\n",
    "\n",
    "この技術をスマイルくんの例のすべての行に適用すれば，スマイルくんを右に移動することができるでしょう．"
   ]
  },
  {
   "cell_type": "code",
   "execution_count": null,
   "metadata": {
    "colab": {
     "base_uri": "https://localhost:8080/"
    },
    "id": "RqFHIgtwgxTo",
    "outputId": "d3d6f885-427a-46fd-e1fb-68801b7a14d6"
   },
   "outputs": [
    {
     "name": "stdout",
     "output_type": "stream",
     "text": [
      "1111111111\n"
     ]
    }
   ],
   "source": [
    "from google.colab import output\n",
    "import time\n",
    "\n",
    "d1 =  1010000000\n",
    "\n",
    "t = 0\n",
    "while t < 10:\n",
    "    output.clear()\n",
    "    print(d1)\n",
    "\n",
    "    time.sleep(1)\n",
    "    t = t + 1\n",
    "\n",
    "    d1 = 1000000000 + d1 // 10"
   ]
  },
  {
   "cell_type": "markdown",
   "metadata": {
    "id": "uXZMJlrsjtfx"
   },
   "source": [
    "### スマイルくんを左に移動するためのヒント\n",
    "\n",
    "スマイルくんを右に動かすのに比べて左に動かすのはすこし面倒かもしれません．\n",
    "\n",
    "簡単のため一行を5文字だったとして，それが以下のパターンだったとします．\n",
    "\n",
    "`1ABCDE`\n",
    "\n",
    "これのパターンを右に移動するということは `1BCDE` にするということになります．\n",
    "\n",
    "※ `ABCDE` とすべきなんですが，`ABCDE = 00011` だったりするとこれを `print` すると，先頭の三つの `0` は省略されて `11` になってしまいます．このことを避けるために左端を `1` にしています．\n",
    "\n",
    "この計算を実施するには，以下はいかがでしょう．なんで，こんな式になるのかはよく考えてみて下さい．"
   ]
  },
  {
   "cell_type": "code",
   "execution_count": null,
   "metadata": {
    "colab": {
     "base_uri": "https://localhost:8080/"
    },
    "id": "Tb8HgXfJl4XW",
    "outputId": "59f385c6-1e7e-428a-f066-30e57e5675a7"
   },
   "outputs": [
    {
     "name": "stdout",
     "output_type": "stream",
     "text": [
      "100000\n"
     ]
    }
   ],
   "source": [
    "from google.colab import output\n",
    "import time\n",
    "\n",
    "d1 = 100001\n",
    "\n",
    "t = 0\n",
    "while t < 6:\n",
    "    output.clear()\n",
    "    print(d1)\n",
    "\n",
    "    time.sleep(1)\n",
    "    t = t + 1\n",
    "\n",
    "    d1 = 100000 + (d1 - d1 // 10000 * 10000) * 10"
   ]
  },
  {
   "cell_type": "markdown",
   "metadata": {
    "id": "Y772wZsm0mYp"
   },
   "source": [
    "## 例3: 囚われのスマイルくん"
   ]
  },
  {
   "cell_type": "code",
   "execution_count": null,
   "metadata": {
    "colab": {
     "base_uri": "https://localhost:8080/"
    },
    "id": "VFTeVABo0ltQ",
    "outputId": "5ce2e20e-d29c-4909-bd0b-36090bd42620"
   },
   "outputs": [
    {
     "name": "stdout",
     "output_type": "stream",
     "text": [
      "1001001001001001001001001001\n",
      "1001001001111001111001001001\n",
      "1001001001111001111001001001\n",
      "1001001001001001001001001001\n",
      "1001001101001001001011001001\n",
      "1001001111001001001111001001\n",
      "1001001011001001001101001001\n",
      "1001001001111111111001001001\n",
      "1001001001001001001001001001\n",
      "1001001001001001001001001001\n",
      "\n"
     ]
    }
   ],
   "source": [
    "from google.colab import output\n",
    "import time\n",
    "\n",
    "d1 =  1000000000000000000000000000\n",
    "d2 =  1000000000110000110000000000\n",
    "d3 =  1000000000110000110000000000\n",
    "d4 =  1000000000000000000000000000\n",
    "d5 =  1000001100000000000011000000\n",
    "d6 =  1000000110000000000110000000\n",
    "d7 =  1000000011000000001100000000\n",
    "d8 =  1000000000111111110000000000\n",
    "d9 =  1000000000000000000000000000\n",
    "d10 = 1000000000000000000000000000\n",
    "\n",
    "t = 0\n",
    "n = 1   # 1, 1000, 1000000, 1000000000 と変化する\n",
    "\n",
    "while t < 10:\n",
    "    output.clear()\n",
    "    print(d1)\n",
    "    print(d2)\n",
    "    print(d3)\n",
    "    print(d4)\n",
    "    print(d5)\n",
    "    print(d6)\n",
    "    print(d7)\n",
    "    print(d8)\n",
    "    print(d9)\n",
    "    print(d10)\n",
    "\n",
    "    time.sleep(1)                  # 1秒休む\n",
    "    t = t + 1\n",
    "\n",
    "    n10 = n * 10\n",
    "\n",
    "    a   = d1 // n10\n",
    "    b   = d1 - d1 // n * n\n",
    "    d1  = (a * 10 + 1) * n + b\n",
    "    a   = d2 // n10\n",
    "    b   = d2 - d2 // n * n\n",
    "    d2  = (a * 10 + 1) * n + b\n",
    "    a   = d3 // n10\n",
    "    b   = d3 - d3 // n * n\n",
    "    d3  = (a * 10 + 1) * n + b\n",
    "    a   = d4 // n10\n",
    "    b   = d4 - d4 // n * n\n",
    "    d4  = (a * 10 + 1) * n + b\n",
    "    a   = d5 // n10\n",
    "    b   = d5 - d5 // n * n\n",
    "    d5  = (a * 10 + 1) * n + b\n",
    "    a   = d6 // n10\n",
    "    b   = d6 - d6 // n * n\n",
    "    d6  = (a * 10 + 1) * n + b\n",
    "    a   = d7 // n10\n",
    "    b   = d7 - d7 // n * n\n",
    "    d7  = (a * 10 + 1) * n + b\n",
    "    a   = d8 // n10\n",
    "    b   = d8 - d8 // n * n\n",
    "    d8  = (a * 10 + 1) * n + b\n",
    "    a   = d9 // n10\n",
    "    b   = d9 - d9 // n * n\n",
    "    d9  = (a * 10 + 1) * n + b\n",
    "    a   = d10 // n10\n",
    "    b   = d10 - d10 // n * n\n",
    "    d10 = (a * 10 + 1) * n + b\n",
    "\n",
    "    n = n * 1000"
   ]
  },
  {
   "cell_type": "markdown",
   "metadata": {
    "id": "gIvl87DenWGG"
   },
   "source": [
    "「囚われのスマイルくん」のエッセンスは以下のプログラムです．このプログラムを動かすと，ループをまわるごとに右から3桁ごとに`1`になっていくことがわかります．\n",
    "\n",
    "N桁目の数字を `1` にするテクニックについて考えてみましょう．*d1* のパターンを `AAAAAxBBBBB` だったと考え，この `x` の部分を `1` で置き換えて `AAAAA1BBBBB` にすることを考えましょう．\n",
    "\n",
    "このために，*d1* のパターンから `AAAAA` の部分と `BBBBB` の部分を切り出して，間に `1` をいれればよいことになります．\n",
    "- `AAAAA` の部分を切り出すのは簡単です．n10 = 1000000 を使って `a = d1 // n10` で得られます．\n",
    "- `BBBBB` の部分を切り出す方法は前の例でやりました．n = 100000 を使って，`b = d1 - d1 // n * n` で得られます．\n",
    "\n",
    "最後に `AAAAA`, `1`, `BBBBB` を連結するには，`(a * 10 + 1) * n + b` でいけます．ここで `a * 10` は `1` と連結するために `a` のパターンを左にひとつずらし `1` の余地を作っています．この結果にさらに `n = 100000` を乗じることで，`AAAAA1` のパターンを左に 5 桁移動して，`BBBBB` の余地を作ってから加算することで求める結果が得られました．"
   ]
  },
  {
   "cell_type": "code",
   "execution_count": null,
   "metadata": {
    "colab": {
     "base_uri": "https://localhost:8080/"
    },
    "id": "L1Hi9bK90s_O",
    "outputId": "0e0d6afd-81ce-42c4-cab2-2846598fc0a9"
   },
   "outputs": [
    {
     "name": "stdout",
     "output_type": "stream",
     "text": [
      "1001001001001001001001001001\n"
     ]
    }
   ],
   "source": [
    "from google.colab import output\n",
    "import time\n",
    "\n",
    "d1 =  1000000000000000000000000000\n",
    "\n",
    "t = 0\n",
    "n = 1   # 1, 1000, 1000000, 1000000000 と変化する\n",
    "\n",
    "while t < 10:\n",
    "    output.clear()\n",
    "    print(d1)\n",
    "\n",
    "    time.sleep(1)                  # 1秒休む\n",
    "    t = t + 1\n",
    "\n",
    "    n10 = n * 10\n",
    "\n",
    "    a   = d1 // n10\n",
    "    b   = d1 - d1 // n * n\n",
    "    d1  = (a * 10 + 1) * n + b\n",
    "\n",
    "    n = n * 1000"
   ]
  }
 ],
 "metadata": {
  "colab": {
   "collapsed_sections": [],
   "name": "day2 addendum.ipynb",
   "provenance": [],
   "toc_visible": true
  },
  "kernelspec": {
   "display_name": "Python 3 (ipykernel)",
   "language": "python",
   "name": "python3"
  },
  "language_info": {
   "codemirror_mode": {
    "name": "ipython",
    "version": 3
   },
   "file_extension": ".py",
   "mimetype": "text/x-python",
   "name": "python",
   "nbconvert_exporter": "python",
   "pygments_lexer": "ipython3",
   "version": "3.9.7"
  },
  "toc-autonumbering": true
 },
 "nbformat": 4,
 "nbformat_minor": 4
}
